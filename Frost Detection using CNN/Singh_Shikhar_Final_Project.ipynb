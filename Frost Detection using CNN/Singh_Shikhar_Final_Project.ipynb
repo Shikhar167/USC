{
 "cells": [
  {
   "cell_type": "markdown",
   "metadata": {
    "id": "53GNw-2t9MuI"
   },
   "source": [
    "## **FINAL PROJECT - DSCI-552**\n",
    "\n",
    "\n",
    "\n",
    "\n",
    "\n",
    "\n",
    "\n",
    "\n",
    "\n",
    "\n"
   ]
  },
  {
   "cell_type": "markdown",
   "metadata": {
    "id": "Kf1cEy_Q9iYn"
   },
   "source": [
    "\n",
    "*   Name : **Shikhar Singh**\n",
    "*   Github Username : **ShikharSingh167**\n",
    "*   USC ID : **8943442373**\n",
    "\n",
    "\n",
    "\n",
    "\n",
    "\n",
    "\n",
    "\n",
    "\n",
    "\n",
    "\n",
    "\n",
    "\n"
   ]
  },
  {
   "cell_type": "markdown",
   "metadata": {
    "id": "ecSjaWEoCAtX"
   },
   "source": [
    "**NOTE to instructors** : This project was completed on Google Colab. To run this notebook, please upload this notebook to google colab and ensure the following files are present in your **'/content/drive/MyDrive'** folder:\n",
    "\n",
    "*   data.zip\n",
    "*   train_source_images.txt\n",
    "*   val_source_images.txt\n",
    "*   test_source_images.txt\n",
    "\n",
    "Also, ensure you are connected to T4 GPU for optimum performance"
   ]
  },
  {
   "cell_type": "markdown",
   "metadata": {
    "id": "WyiohRjnAF3i"
   },
   "source": [
    "## **Identification of Frost in Martian HiRISE Images**\n",
    "\n",
    "(a) In this problem, we are trying to build a classifier that distinguishes images of\n",
    "Martian terrain with frost. You can find the dataset in https://dataverse.jpl.nasa.gov/dataset.xhtml?persistentId=doi:10.48577/jpl.QJ9PYA.\n",
    "This dataset was created to study Mars’ seasonal frost cycle and its role in the\n",
    "planet’s climate and surface evolution over the past 2 billion years. The data helps\n",
    "in identifying low-latitude frosted microclimates and their impact on climate."
   ]
  },
  {
   "cell_type": "markdown",
   "metadata": {
    "id": "HiIa9EIwAd6i"
   },
   "source": [
    "### (b) **Data Exploration and Pre-processing**\n",
    "i. Images (png files) and labels (json files) are organized in the data directory\n",
    "by “subframes.” Subframes are individual 5120x5120 pixel images which are\n",
    "crops of the original HiRISE images (often on the order of 50k x 10k pixels).\n",
    "Individual subframes were annotated by the contributors and then sliced into\n",
    "299x299 “tiles.” Each tile has an associated label for use in training ML\n",
    "algorithms.\n",
    "\n",
    "There are 214 subframes and a total of 119920 tiles. Each tile has annotations\n",
    "which have been used to assign labels to the tiles ‘frost’ or ‘background.’\n",
    "\n",
    "Each JSON file contains all the annotation information collected from human\n",
    "annotators.\n",
    "\n",
    "The following are relevant to the assignment:\n",
    "\n",
    "Image tiles are organized into folders of ‘background’ and ‘frost’ classes (bi-\n",
    "nary). For the purpose of the final project, individual tiles shall serve as the data points which need to be classified using binary classification.\n",
    "\n",
    "ii. The dataset includes files for splitting the data into train, test and validation.\n",
    "However, you will be provided by an improved version of those files when a\n",
    "repo is created:\n",
    "\n",
    "\n",
    "*   A. train source images.txt\n",
    "*   B. test source images.txt\n",
    "*   C. val source images.txt\n",
    "\n",
    "iii. Each of these files contains the IDs of the high rise images (parent folders for\n",
    "the subframes and tiles)."
   ]
  },
  {
   "cell_type": "markdown",
   "metadata": {
    "id": "BfCHQuXKB8-0"
   },
   "source": [
    "**Importing necessary packages**"
   ]
  },
  {
   "cell_type": "code",
   "execution_count": 1,
   "metadata": {
    "id": "3maCbjILHkAR"
   },
   "outputs": [],
   "source": [
    "import os\n",
    "import os.path as op\n",
    "import json\n",
    "from pathlib import Path\n",
    "import shutil\n",
    "import logging\n",
    "import numpy as np\n",
    "from tqdm import tqdm\n",
    "from skimage import io\n",
    "import random\n",
    "import tensorflow as tf\n",
    "from PIL import Image\n",
    "import zipfile\n",
    "from tensorflow.keras.models import Sequential\n",
    "from tensorflow.keras.layers import Conv2D, MaxPooling2D, Flatten, Dense, Dropout, BatchNormalization\n",
    "from tensorflow.keras.activations import relu\n",
    "from tensorflow.keras.regularizers import l2\n",
    "from tensorflow.keras.optimizers import Adam\n",
    "from tensorflow.keras.callbacks import EarlyStopping\n",
    "from tensorflow.keras.metrics import Precision, Recall\n",
    "from tensorflow.keras.preprocessing.image import ImageDataGenerator\n",
    "from tensorflow.keras.callbacks import EarlyStopping, ModelCheckpoint\n",
    "from tensorflow.keras.models import load_model"
   ]
  },
  {
   "cell_type": "markdown",
   "metadata": {
    "id": "dR5unAsHDH63"
   },
   "source": [
    "**Mounting the google drive**"
   ]
  },
  {
   "cell_type": "code",
   "execution_count": 2,
   "metadata": {
    "colab": {
     "base_uri": "https://localhost:8080/"
    },
    "id": "qd42IsS6wzlh",
    "outputId": "ce1f880a-7b53-41c9-e53e-178227181cd5"
   },
   "outputs": [
    {
     "name": "stdout",
     "output_type": "stream",
     "text": [
      "Mounted at /content/drive\n"
     ]
    }
   ],
   "source": [
    "from google.colab import drive\n",
    "drive.mount('/content/drive', force_remount=True)"
   ]
  },
  {
   "cell_type": "markdown",
   "metadata": {
    "id": "Ezoe9wrxDOyY"
   },
   "source": [
    "**Extracting contents from data.**"
   ]
  },
  {
   "cell_type": "code",
   "execution_count": 3,
   "metadata": {
    "colab": {
     "base_uri": "https://localhost:8080/"
    },
    "id": "pnfhvfjCS5G1",
    "outputId": "ad3c2846-7c5c-4101-ae98-7efdd04f9dbe"
   },
   "outputs": [
    {
     "data": {
      "text/plain": [
       "['ESP_018946_2400_15360_20480_0_5120',\n",
       " 'ESP_028501_1295_20480_25600_5120_10240',\n",
       " 'ESP_062521_2450_5120_10240_20480_25600',\n",
       " 'ESP_071080_2370_25600_30720_15360_20480',\n",
       " 'ESP_072796_1295_10240_15360_5120_10240',\n",
       " 'PSP_005315_1770_15360_20480_15360_20480',\n",
       " 'ESP_066935_2230_15360_20480_0_5120',\n",
       " 'ESP_057638_2230_10240_15360_10240_15360',\n",
       " 'ESP_058933_2370_15360_20480_5120_10240',\n",
       " 'PSP_009808_2400_51200_56320_20480_25600',\n",
       " 'ESP_066956_2450_20480_25600_5120_10240',\n",
       " 'ESP_061741_2435_5120_10240_10240_15360',\n",
       " 'ESP_066104_2230_51200_56320_15360_20480',\n",
       " 'ESP_024370_2445_56320_61440_10240_15360',\n",
       " 'ESP_042279_1820_5120_10240_0_5120',\n",
       " 'ESP_018951_1205_10240_15360_0_5120',\n",
       " 'ESP_039175_1200_15360_20480_5120_10240',\n",
       " 'ESP_011605_1170_10240_15360_10240_15360',\n",
       " 'ESP_066956_2450_30720_35840_10240_15360',\n",
       " 'ESP_066813_2360_15360_20480_5120_10240',\n",
       " 'ESP_062177_2370_35840_40353_10240_15360',\n",
       " 'PSP_009808_2400_20480_25600_25600_30720',\n",
       " 'PSP_002033_1325_15360_20480_5120_10240',\n",
       " 'ESP_019251_2385_25600_30720_0_5120',\n",
       " 'ESP_018751_2230_20480_25600_10240_15360',\n",
       " 'ESP_062521_2450_25600_30720_10240_15360',\n",
       " 'ESP_027926_2400_30720_35840_15360_20480',\n",
       " 'ESP_067228_1820_5120_10240_5120_10240',\n",
       " '.DS_Store',\n",
       " 'ESP_047596_1845_5120_10240_10240_15360',\n",
       " 'ESP_071635_2450_0_5120_10240_15360',\n",
       " 'ESP_057638_2230_15360_20480_5120_10240',\n",
       " 'ESP_032345_2385_10240_15360_5120_10240',\n",
       " 'ESP_019251_2385_46080_51200_30720_33558',\n",
       " 'ESP_059500_2370_5120_10240_15360_20480',\n",
       " 'PSP_006825_2465_20480_25600_25600_30720',\n",
       " 'ESP_017717_2450_20480_25600_0_5120',\n",
       " 'ESP_020415_1195_0_5120_5120_10240',\n",
       " 'ESP_062177_2370_15360_20480_10240_15360',\n",
       " 'ESP_022508_2385_5120_10240_10240_15360',\n",
       " 'ESP_058933_2370_30720_35840_20480_25600',\n",
       " 'ESP_066935_2230_46080_51200_5120_10240',\n",
       " 'PSP_002904_1255_20480_25600_5120_10240',\n",
       " 'ESP_053223_1770_15360_20480_0_5120',\n",
       " 'ESP_018951_1205_15360_20480_0_5120',\n",
       " 'PSP_006825_2465_10240_15360_10240_15360',\n",
       " 'ESP_018263_2230_40960_46080_15360_18186',\n",
       " 'ESP_026602_1300_20480_25600_5120_10240',\n",
       " 'ESP_062583_2230_30720_35840_5120_10240',\n",
       " 'ESP_057638_2230_15360_20480_0_5120',\n",
       " 'ESP_031989_2385_0_5120_0_5120',\n",
       " 'ESP_019781_1300_25600_30720_10240_15141',\n",
       " 'ESP_019781_1300_5120_10240_5120_10240',\n",
       " 'ESP_067360_2370_51200_56320_5120_10240',\n",
       " 'ESP_036752_2440_30720_32804_10240_15360',\n",
       " 'ESP_024291_2445_51200_56320_15360_20480',\n",
       " 'ESP_068038_2450_0_5120_10240_15360',\n",
       " 'ESP_011605_1170_5120_10240_15360_20480',\n",
       " 'ESP_066805_2440_35840_40960_5120_10240',\n",
       " 'ESP_066879_2410_15360_20480_5120_10240',\n",
       " 'ESP_058496_2225_15360_20480_15360_20480',\n",
       " 'ESP_028799_2230_20480_25600_5120_10240',\n",
       " 'ESP_035958_2385_15360_20480_10240_15360',\n",
       " 'ESP_027706_1300_25600_30720_5120_10240',\n",
       " 'ESP_066819_2370_10240_15360_5120_10240',\n",
       " 'ESP_066879_2410_20480_25600_5120_10240',\n",
       " 'ESP_035667_2295_15360_20480_10240_15360',\n",
       " 'ESP_068038_2450_20480_25600_15360_18045',\n",
       " 'ESP_062521_2450_15360_20480_0_5120',\n",
       " 'ESP_066104_2230_25600_30720_15360_20480',\n",
       " 'ESP_067360_2370_35840_40960_5120_10240',\n",
       " 'ESP_036357_1255_5120_10240_0_5120',\n",
       " 'ESP_057638_2230_25600_30720_0_5120',\n",
       " 'ESP_018946_2400_51200_51596_5120_10240',\n",
       " 'ESP_019459_2185_30720_35840_5120_10240',\n",
       " 'ESP_019459_2185_30720_35840_25600_29008',\n",
       " 'ESP_054143_2230_15360_20480_0_5120',\n",
       " 'ESP_025753_1755_25600_30720_10240_15169',\n",
       " 'ESP_018828_2445_5120_10240_10240_15360',\n",
       " 'ESP_041233_2385_40960_46080_15360_20480',\n",
       " 'ESP_045865_1825_15360_20480_10240_15360',\n",
       " 'ESP_026885_2295_25600_30720_5120_10240',\n",
       " 'ESP_026885_2295_0_5120_0_5120',\n",
       " 'ESP_017506_2450_66560_71680_35840_40960',\n",
       " 'ESP_019781_1300_20480_25600_5120_10240',\n",
       " 'ESP_017506_2450_20480_25600_10240_15360',\n",
       " 'ESP_016518_2535_0_5120_20480_25600',\n",
       " 'ESP_058710_2450_30720_35840_5120_10240',\n",
       " 'ESP_072193_1845_5120_10240_5120_10240',\n",
       " 'ESP_072193_1845_15360_20480_0_5120',\n",
       " 'ESP_018946_2400_15360_20480_10240_15360',\n",
       " 'ESP_019636_1300_5120_10240_5120_10240',\n",
       " 'ESP_066879_2410_5120_10240_0_5120',\n",
       " 'ESP_017717_2450_30720_35840_15360_20293',\n",
       " 'ESP_039175_1200_20480_25600_10240_14496',\n",
       " 'ESP_038058_1205_10240_15360_5120_10240',\n",
       " 'PSP_005315_1770_5120_10240_0_5120',\n",
       " 'ESP_025753_1755_30720_35840_5120_10240',\n",
       " 'PSP_006825_2465_56320_61440_76800_81920',\n",
       " 'ESP_027706_1300_20480_25600_5120_10240',\n",
       " 'ESP_018828_2445_5120_10240_0_5120',\n",
       " 'ESP_065354_2440_10240_15360_10240_15360',\n",
       " 'ESP_036752_2440_25600_30720_10240_15360',\n",
       " 'ESP_018002_1820_40960_46080_25600_29510',\n",
       " 'ESP_048733_2075_20480_24407_5120_10240',\n",
       " 'ESP_068434_2450_15360_20480_5120_10240',\n",
       " 'ESP_017717_2450_25600_30720_5120_10240',\n",
       " 'ESP_071635_2450_30720_35840_25600_30720',\n",
       " 'ESP_032207_1350_10240_15360_0_5120',\n",
       " 'ESP_067691_2450_20480_25600_10240_15360',\n",
       " 'ESP_016518_2535_20480_25600_20480_25600',\n",
       " 'ESP_011605_1170_25600_30720_20480_25600',\n",
       " 'ESP_070763_1790_5120_10240_0_5120',\n",
       " 'ESP_072569_1320_5120_10240_0_5120',\n",
       " 'ESP_018828_2445_20480_25600_5120_10240',\n",
       " 'ESP_068434_2450_10240_15360_5120_10240',\n",
       " 'ESP_059277_2450_0_5120_5120_10240',\n",
       " 'ESP_071080_2370_35840_37235_5120_10240',\n",
       " 'ESP_033141_2450_61440_66560_20480_25600',\n",
       " 'ESP_047596_1845_30720_33868_20480_22955',\n",
       " 'ESP_066104_2230_56320_61440_20480_25600',\n",
       " 'ESP_040666_2385_10240_15360_5120_10240',\n",
       " 'ESP_067216_2450_20480_25600_15360_18135',\n",
       " 'ESP_068038_2450_20480_25600_10240_15360',\n",
       " 'ESP_067691_2450_35840_40316_15360_20480',\n",
       " 'ESP_062521_2450_20480_25600_20480_25600',\n",
       " 'ESP_067228_1820_10240_15360_0_5120',\n",
       " 'ESP_035958_2385_10240_15360_5120_10240',\n",
       " 'ESP_065389_2400_15360_20429_10240_15360',\n",
       " 'ESP_061741_2435_15360_20480_15360_20480',\n",
       " 'ESP_018951_1205_0_5120_0_5120',\n",
       " 'ESP_040959_1355_0_5120_0_5120',\n",
       " 'ESP_068054_2400_15360_20480_15360_20480',\n",
       " 'ESP_059259_2385_5120_10240_10240_15360',\n",
       " 'ESP_019459_2185_30720_35840_0_5120',\n",
       " 'ESP_071635_2450_0_5120_15360_20480',\n",
       " 'ESP_055340_1185_10240_15360_5120_10240',\n",
       " 'ESP_072193_1845_10240_15360_0_5120',\n",
       " 'ESP_027926_2400_20480_25600_10240_15360',\n",
       " 'ESP_026885_2295_30720_35840_15360_20480',\n",
       " 'ESP_026885_2295_71680_76222_15360_20480',\n",
       " 'ESP_061741_2435_10240_15360_10240_15360',\n",
       " 'ESP_072569_1320_5120_10240_5120_10240',\n",
       " 'ESP_032207_1350_25600_30720_10240_14561',\n",
       " 'ESP_055293_2370_0_5120_0_5120',\n",
       " 'ESP_039175_1200_0_5120_0_5120',\n",
       " 'ESP_066813_2360_20480_25600_5120_10240',\n",
       " 'ESP_017506_2450_66560_71680_15360_20480',\n",
       " 'ESP_057638_2230_0_5120_10240_15360',\n",
       " 'PSP_009808_2400_40960_46080_30720_35840',\n",
       " 'ESP_018946_2400_25600_30720_10240_15360',\n",
       " 'PSP_002033_1325_10240_15360_5120_10240',\n",
       " 'PSP_002033_1325_10240_15360_10240_15360',\n",
       " 'ESP_035667_2295_10240_15360_5120_10240',\n",
       " 'ESP_040959_1355_10240_13543_5120_10240',\n",
       " 'ESP_054143_2230_10240_15360_0_5120',\n",
       " 'ESP_019207_2450_20480_25600_15360_18769',\n",
       " 'ESP_053223_1770_0_5120_5120_10240',\n",
       " 'ESP_042279_1820_25600_30720_10240_15360',\n",
       " 'PSP_005315_1770_35840_40960_10240_15360',\n",
       " 'ESP_036752_2440_5120_10240_5120_10240',\n",
       " 'PSP_009808_2400_20480_25600_15360_20480',\n",
       " 'ESP_066819_2370_35840_40960_10240_15360',\n",
       " 'ESP_065389_2400_0_5120_0_5120',\n",
       " 'ESP_019636_1300_10240_15360_5120_10240',\n",
       " 'ESP_070763_1790_15360_20480_5120_10240',\n",
       " 'ESP_040099_2385_25600_28910_0_5120',\n",
       " 'ESP_036752_2440_0_5120_5120_10240',\n",
       " 'ESP_053223_1770_15360_20480_5120_10240',\n",
       " 'ESP_040959_1355_10240_13543_10240_11162',\n",
       " 'ESP_058722_2370_5120_10240_5120_10240',\n",
       " 'ESP_049512_1310_10240_15360_10240_11791',\n",
       " 'ESP_018828_2445_5120_10240_15360_20480',\n",
       " 'ESP_018002_1820_5120_10240_20480_25600',\n",
       " 'ESP_035958_2385_35840_38175_15360_16935',\n",
       " 'ESP_055293_2370_20480_25600_5120_10240',\n",
       " 'ESP_059470_2385_15360_20480_10240_15360',\n",
       " 'ESP_048733_2075_0_5120_5120_10240',\n",
       " 'ESP_059500_2370_20480_25600_5120_10240',\n",
       " 'ESP_017717_2450_15360_20480_10240_15360',\n",
       " 'ESP_068434_2450_5120_10240_5120_10240',\n",
       " 'ESP_066805_2440_10240_15360_0_5120',\n",
       " 'ESP_066476_2370_0_5120_5120_10240',\n",
       " 'ESP_032207_1350_5120_10240_0_5120',\n",
       " 'ESP_025753_1755_5120_10240_0_5120',\n",
       " 'ESP_061741_2435_0_5120_0_5120',\n",
       " 'PSP_005315_1770_0_5120_5120_10240',\n",
       " 'ESP_019207_2450_5120_10240_0_5120',\n",
       " 'ESP_019636_1300_15360_20480_5120_10240',\n",
       " 'ESP_073664_1205_15360_20480_5120_10240',\n",
       " 'ESP_062177_2370_35840_40353_5120_10240',\n",
       " 'ESP_062521_2450_10240_15360_15360_20480',\n",
       " 'ESP_042279_1820_0_5120_15360_20480',\n",
       " 'ESP_068046_2370_40960_42900_5120_10240',\n",
       " 'ESP_068054_2400_25600_30720_0_5120',\n",
       " 'ESP_067228_1820_25600_30720_5120_10240',\n",
       " 'ESP_066972_2400_20480_25600_0_5120',\n",
       " 'ESP_035667_2295_30720_35840_5120_10240',\n",
       " 'ESP_069365_2440_10240_15360_10240_15360',\n",
       " 'ESP_066813_2360_5120_10240_0_5120',\n",
       " 'ESP_055340_1185_0_5120_0_5120',\n",
       " 'ESP_025753_1755_15360_20480_0_5120',\n",
       " 'ESP_066972_2400_5120_10240_10240_15360',\n",
       " 'ESP_019251_2385_10240_15360_15360_20480',\n",
       " 'ESP_018263_2230_20480_25600_0_5120',\n",
       " 'ESP_057638_2230_30720_35840_5120_10240',\n",
       " 'ESP_062177_2370_10240_15360_5120_10240',\n",
       " 'ESP_019251_2385_15360_20480_15360_20480',\n",
       " 'ESP_019251_2385_25600_30720_15360_20480',\n",
       " 'ESP_072193_1845_25600_28976_5120_10240',\n",
       " 'ESP_028733_2230_61440_66560_15360_20480',\n",
       " 'ESP_035958_2385_5120_10240_0_5120',\n",
       " 'ESP_062521_2450_0_5120_5120_10240',\n",
       " 'ESP_066972_2400_0_5120_10240_15360',\n",
       " 'ESP_060332_2450_5120_10240_5120_10240',\n",
       " 'ESP_070763_1790_10240_15360_10240_12878',\n",
       " 'ESP_026885_2295_30720_35840_0_5120',\n",
       " 'ESP_068362_2440_10240_15360_10240_15360',\n",
       " 'ESP_039175_1200_20480_25600_5120_10240',\n",
       " 'ESP_049512_1310_5120_10240_0_5120',\n",
       " 'ESP_071635_2450_25600_30720_5120_10240',\n",
       " 'ESP_070763_1790_5120_10240_5120_10240',\n",
       " 'ESP_045865_1825_30720_34926_0_5120',\n",
       " 'ESP_060055_2450_15360_20480_10240_15360',\n",
       " 'PSP_008120_2465_66560_71680_0_5120',\n",
       " 'PSP_006825_2465_51200_56320_61440_66560',\n",
       " 'ESP_067022_2450_25600_30720_10240_15360',\n",
       " 'ESP_066972_2400_0_5120_0_5120',\n",
       " 'ESP_067022_2450_5120_10240_0_5120',\n",
       " 'ESP_040959_1355_0_5120_5120_10240',\n",
       " 'ESP_071635_2450_15360_20480_15360_20480',\n",
       " 'ESP_019251_2385_15360_20480_10240_15360',\n",
       " 'ESP_019459_2185_20480_25600_20480_25600',\n",
       " 'ESP_071635_2450_20480_25600_25600_30720',\n",
       " 'ESP_027706_1300_30720_35840_5120_10240',\n",
       " 'ESP_032556_2385_20480_25600_0_5120',\n",
       " 'ESP_061741_2435_15360_20480_0_5120',\n",
       " 'ESP_032207_1350_35840_40791_5120_10240',\n",
       " 'ESP_067517_1430_10240_15360_15360_20480',\n",
       " 'ESP_066956_2450_25600_30720_10240_15360',\n",
       " 'ESP_048733_2075_15360_20480_5120_10240',\n",
       " 'ESP_053223_1770_0_5120_0_5120',\n",
       " 'ESP_042279_1820_35840_40960_5120_10240',\n",
       " 'ESP_072193_1845_0_5120_5120_10240',\n",
       " 'PSP_002904_1255_25600_30720_5120_10240',\n",
       " 'ESP_064703_1170_46080_51200_5120_10240',\n",
       " 'PSP_009721_2370_56320_58625_10240_15360',\n",
       " 'ESP_027926_2400_10240_15360_5120_10240',\n",
       " 'ESP_018751_2230_0_5120_0_5120',\n",
       " 'ESP_068434_2450_25600_30720_5120_10240',\n",
       " 'ESP_027706_1300_15360_20480_0_5120',\n",
       " 'ESP_072569_1320_0_5120_5120_10240',\n",
       " 'ESP_062521_2450_35840_40632_10240_15360',\n",
       " 'ESP_019207_2450_15360_20480_0_5120',\n",
       " 'ESP_024370_2445_30720_35840_5120_10240',\n",
       " 'ESP_039888_2385_20480_25600_5120_10240',\n",
       " 'ESP_049512_1310_15360_18528_10240_11791',\n",
       " 'ESP_068434_2450_15360_20480_10240_15360',\n",
       " 'ESP_038058_1205_15360_20480_5120_10240',\n",
       " 'PSP_005315_1770_46080_51200_15360_20480',\n",
       " 'ESP_017506_2450_56320_61440_10240_15360',\n",
       " 'ESP_018828_2445_25600_30720_15360_20480',\n",
       " 'ESP_057638_2230_25600_30720_20480_25600',\n",
       " 'ESP_038058_1205_20480_25600_5120_10240',\n",
       " 'PSP_002904_1255_25600_30720_15360_20480',\n",
       " 'ESP_053223_1770_20480_22760_10240_12466',\n",
       " 'ESP_018951_1205_5120_10240_0_5120',\n",
       " 'ESP_071080_2370_10240_15360_15360_20480',\n",
       " 'ESP_028799_2230_10240_15360_0_5120',\n",
       " 'ESP_053223_1770_5120_10240_0_5120',\n",
       " 'ESP_016518_2535_25600_30720_10240_15360',\n",
       " 'ESP_061741_2435_0_5120_20480_25600',\n",
       " 'ESP_065389_2400_15360_20429_5120_10240',\n",
       " 'ESP_067228_1820_15360_20480_0_5120',\n",
       " 'ESP_028501_1295_10240_15360_5120_10240',\n",
       " 'ESP_042279_1820_10240_15360_0_5120',\n",
       " 'ESP_048733_2075_10240_15360_10240_13427',\n",
       " 'ESP_047596_1845_15360_20480_5120_10240',\n",
       " 'ESP_019207_2450_5120_10240_10240_15360',\n",
       " 'ESP_036357_1255_0_5120_0_5120',\n",
       " 'PSP_002904_1255_25600_30720_10240_15360',\n",
       " 'ESP_028733_2230_15360_20480_20480_25600',\n",
       " 'ESP_068054_2400_10240_15360_5120_10240',\n",
       " 'ESP_017506_2450_51200_56320_20480_25600',\n",
       " 'ESP_028501_1295_25600_30720_5120_10240',\n",
       " 'ESP_020415_1195_10240_15360_5120_10240',\n",
       " 'ESP_016518_2535_46080_51200_10240_15360',\n",
       " 'ESP_047596_1845_20480_25600_0_5120',\n",
       " 'ESP_072796_1295_20480_25600_5120_10240',\n",
       " 'ESP_033141_2450_5120_10240_10240_15360',\n",
       " 'ESP_035958_2385_10240_15360_10240_15360',\n",
       " 'ESP_026602_1300_15360_20480_5120_10240',\n",
       " 'ESP_073664_1205_5120_10240_5120_10240',\n",
       " 'ESP_025753_1755_40960_46080_10240_15169',\n",
       " 'ESP_067084_2450_10240_15360_10240_15360',\n",
       " 'ESP_024370_2445_0_5120_0_5120',\n",
       " 'ESP_067517_1430_30720_35840_5120_10240',\n",
       " 'ESP_036752_2440_25600_30720_5120_10240',\n",
       " 'ESP_067228_1820_0_5120_0_5120',\n",
       " 'ESP_045865_1825_30720_34926_5120_10240',\n",
       " 'PSP_002033_1325_15360_20480_10240_15360',\n",
       " 'ESP_071635_2450_25600_30720_20480_25600',\n",
       " 'ESP_059500_2370_10240_15360_20480_25600',\n",
       " 'ESP_065389_2400_5120_10240_10240_15360',\n",
       " 'ESP_032912_2385_5120_10240_5120_10240',\n",
       " 'PSP_008120_2465_10240_15360_35840_40960',\n",
       " 'ESP_019251_2385_0_5120_20480_25600',\n",
       " 'ESP_058496_2225_15360_20480_20480_25600',\n",
       " 'ESP_067022_2450_20480_25600_10240_15360',\n",
       " 'ESP_042279_1820_46080_51200_15360_20480',\n",
       " 'ESP_041444_2385_15360_20480_5120_10240',\n",
       " 'ESP_020415_1195_15360_20480_5120_10240',\n",
       " 'ESP_066104_2230_40960_46080_5120_10240',\n",
       " 'ESP_024291_2445_35840_40960_15360_20480',\n",
       " 'ESP_068054_2400_0_5120_0_5120',\n",
       " 'ESP_068046_2370_20480_25600_5120_10240',\n",
       " 'ESP_066446_2385_15360_20480_0_5120',\n",
       " 'ESP_067228_1820_20480_25600_10240_15360',\n",
       " 'ESP_036752_2440_30720_32804_5120_10240',\n",
       " 'ESP_049512_1310_15360_18528_0_5120',\n",
       " 'ESP_045865_1825_10240_15360_5120_10240',\n",
       " 'ESP_040959_1355_10240_13543_0_5120',\n",
       " 'ESP_058722_2370_5120_10240_0_5120',\n",
       " 'ESP_018828_2445_20480_25600_10240_15360',\n",
       " 'ESP_066476_2370_20480_25600_0_5120',\n",
       " 'ESP_049512_1310_15360_18528_5120_10240',\n",
       " 'ESP_058046_2385_30720_35840_15360_17036',\n",
       " 'ESP_062521_2450_5120_10240_10240_15360',\n",
       " 'ESP_064703_1170_40960_46080_15360_20480',\n",
       " 'ESP_018002_1820_51200_56320_5120_10240',\n",
       " 'ESP_035958_2385_15360_20480_5120_10240',\n",
       " 'ESP_028501_1295_5120_10240_5120_10240',\n",
       " 'ESP_035667_2295_25600_30720_5120_10240',\n",
       " 'PSP_009808_2400_56320_59319_5120_10240',\n",
       " 'ESP_018946_2400_10240_15360_10240_15360',\n",
       " 'ESP_019207_2450_15360_20480_15360_18769',\n",
       " 'ESP_032785_2450_0_5120_0_5120',\n",
       " 'ESP_061741_2435_15360_20480_5120_10240',\n",
       " 'ESP_067517_1430_25600_30720_20480_23178',\n",
       " 'ESP_066972_2400_25600_30720_0_5120',\n",
       " 'ESP_032930_2450_20480_25600_25600_30720',\n",
       " 'PSP_005315_1770_25600_30720_15360_20480',\n",
       " 'ESP_067517_1430_40960_42175_10240_15360',\n",
       " 'ESP_059500_2370_25600_30720_5120_10240',\n",
       " 'ESP_072796_1295_15360_20480_5120_10240',\n",
       " 'ESP_027926_2400_10240_15360_15360_20480',\n",
       " 'ESP_055340_1185_20480_25600_5120_10240',\n",
       " 'ESP_059277_2450_25600_30720_10240_15360',\n",
       " 'ESP_059500_2370_10240_15360_15360_20480',\n",
       " 'ESP_036357_1255_15360_20480_0_5120',\n",
       " 'ESP_026602_1300_5120_10240_5120_10240',\n",
       " 'ESP_047596_1845_0_5120_10240_15360',\n",
       " 'ESP_045865_1825_20480_25600_20480_23601',\n",
       " 'ESP_036357_1255_10240_15360_0_5120',\n",
       " 'ESP_070763_1790_20480_25600_10240_12878',\n",
       " 'ESP_068054_2400_5120_10240_0_5120',\n",
       " 'ESP_061741_2435_15360_20480_25600_29685',\n",
       " 'ESP_019459_2185_25600_30720_15360_20480',\n",
       " 'ESP_055340_1185_30720_35840_5120_10240',\n",
       " 'ESP_066104_2230_10240_15360_15360_20480',\n",
       " 'ESP_055293_2370_5120_10240_0_5120',\n",
       " 'ESP_032207_1350_5120_10240_5120_10240',\n",
       " 'ESP_017717_2450_35840_38922_15360_20293',\n",
       " 'ESP_020415_1195_10240_15360_0_5120',\n",
       " 'ESP_024291_2445_20480_25600_10240_15360',\n",
       " 'ESP_019781_1300_0_5120_5120_10240',\n",
       " 'ESP_019636_1300_35840_40960_5120_10240',\n",
       " 'ESP_047596_1845_10240_15360_15360_20480',\n",
       " 'ESP_068434_2450_40960_44678_15360_20225',\n",
       " 'ESP_028799_2230_25600_30720_0_5120',\n",
       " 'ESP_048733_2075_20480_24407_10240_13427',\n",
       " 'ESP_032207_1350_20480_25600_10240_14561',\n",
       " 'ESP_026602_1300_25600_30720_5120_10240',\n",
       " 'ESP_038058_1205_0_5120_5120_10240',\n",
       " 'ESP_073664_1205_10240_15360_5120_10240',\n",
       " 'ESP_067517_1430_35840_40960_20480_23178',\n",
       " 'ESP_035958_2385_0_5120_10240_15360',\n",
       " 'ESP_026885_2295_5120_10240_15360_20480',\n",
       " 'ESP_070763_1790_15360_20480_10240_12878',\n",
       " 'ESP_058496_2225_10240_15360_0_5120',\n",
       " 'ESP_068434_2450_40960_44678_10240_15360',\n",
       " 'PSP_008120_2465_61440_66560_0_5120',\n",
       " 'ESP_071080_2370_15360_20480_5120_10240',\n",
       " 'ESP_055293_2370_20480_25600_20480_25600',\n",
       " 'ESP_066813_2360_15360_20480_0_5120',\n",
       " 'ESP_036752_2440_30720_32804_15360_17718',\n",
       " 'ESP_018002_1820_35840_40960_20480_25600',\n",
       " 'ESP_062583_2230_15360_20480_10240_15360',\n",
       " 'PSP_008120_2465_66560_71680_5120_10240',\n",
       " 'ESP_040877_2385_5120_10240_0_5120',\n",
       " 'ESP_018002_1820_0_5120_20480_25600',\n",
       " 'ESP_035667_2295_25600_30720_20480_25600',\n",
       " 'ESP_065354_2440_15360_20299_0_5120',\n",
       " 'ESP_065389_2400_0_5120_10240_15360',\n",
       " 'ESP_035958_2385_25600_30720_10240_15360',\n",
       " 'ESP_072193_1845_10240_15360_10240_13642',\n",
       " 'ESP_048733_2075_10240_15360_0_5120',\n",
       " 'ESP_011605_1170_10240_15360_0_5120',\n",
       " 'ESP_066879_2410_10240_15360_5120_10240',\n",
       " 'ESP_067517_1430_0_5120_0_5120',\n",
       " 'ESP_064703_1170_25600_30720_5120_10240',\n",
       " 'ESP_064703_1170_10240_15360_15360_20480',\n",
       " 'ESP_018002_1820_5120_10240_5120_10240',\n",
       " 'ESP_068362_2440_0_5120_5120_10240',\n",
       " 'ESP_040959_1355_5120_10240_10240_11162',\n",
       " 'ESP_049512_1310_10240_15360_0_5120',\n",
       " 'ESP_068046_2370_20480_25600_0_5120',\n",
       " 'ESP_019459_2185_25600_30720_20480_25600',\n",
       " 'ESP_035667_2295_5120_10240_5120_10240',\n",
       " 'PSP_009721_2370_30720_35840_5120_10240',\n",
       " 'ESP_045865_1825_15360_20480_5120_10240',\n",
       " 'ESP_027926_2400_40960_46080_10240_15360',\n",
       " 'ESP_073664_1205_0_5120_0_5120',\n",
       " 'PSP_009721_2370_30720_35840_20480_25600',\n",
       " 'ESP_025753_1755_10240_15360_5120_10240']"
      ]
     },
     "execution_count": 3,
     "metadata": {},
     "output_type": "execute_result"
    }
   ],
   "source": [
    "zip_path = '/content/drive/My Drive/data.zip'\n",
    "with zipfile.ZipFile(zip_path, 'r') as zip_ref:\n",
    "    zip_ref.extractall('/content/data')\n",
    "os.listdir('/content/data/data')"
   ]
  },
  {
   "cell_type": "code",
   "execution_count": 4,
   "metadata": {
    "id": "ooJxQNkxrvpX"
   },
   "outputs": [],
   "source": [
    "# Logging configuration\n",
    "logging.basicConfig(level=logging.INFO,\n",
    "                    datefmt='%H:%M:%S',\n",
    "                    format='%(asctime)s | %(levelname)-5s | %(module)-15s | %(message)s')"
   ]
  },
  {
   "cell_type": "markdown",
   "metadata": {
    "id": "a509QnVZDkT_"
   },
   "source": [
    "**Data preprocessing**"
   ]
  },
  {
   "cell_type": "code",
   "execution_count": 5,
   "metadata": {
    "id": "kf7T_dX_phET"
   },
   "outputs": [],
   "source": [
    "IMAGE_SIZE = (299, 299)\n",
    "SEED = 17\n",
    "data_head_dir = Path('/content/data/data')\n",
    "subdirs = [Path(subdir.stem) for subdir in data_head_dir.iterdir() if subdir.is_dir()]\n",
    "src_image_ids = ['_'.join(a_path.name.split('_')[:3]) for a_path in subdirs]"
   ]
  },
  {
   "cell_type": "code",
   "execution_count": 6,
   "metadata": {
    "colab": {
     "base_uri": "https://localhost:8080/"
    },
    "id": "0s_KMmbhGqt2",
    "outputId": "14bc425e-efed-4877-a0a1-d19c69931074"
   },
   "outputs": [
    {
     "data": {
      "text/plain": [
       "414"
      ]
     },
     "execution_count": 6,
     "metadata": {},
     "output_type": "execute_result"
    }
   ],
   "source": [
    "len(subdirs)"
   ]
  },
  {
   "cell_type": "code",
   "execution_count": 7,
   "metadata": {
    "colab": {
     "base_uri": "https://localhost:8080/"
    },
    "id": "OrLX8DECGuMG",
    "outputId": "22ee0f68-aba3-4afd-e89f-1454bd87fde6"
   },
   "outputs": [
    {
     "data": {
      "text/plain": [
       "414"
      ]
     },
     "execution_count": 7,
     "metadata": {},
     "output_type": "execute_result"
    }
   ],
   "source": [
    "len(src_image_ids)"
   ]
  },
  {
   "cell_type": "code",
   "execution_count": 8,
   "metadata": {
    "id": "62I8WV4Dwg1R"
   },
   "outputs": [],
   "source": [
    "# Load train/val/test subframe IDs\n",
    "def load_text_ids(file_path):\n",
    "    \"\"\"Simple helper to load all lines from a text file\"\"\"\n",
    "    with open(file_path, 'r') as f:\n",
    "        lines = [line.strip() for line in f.readlines()]\n",
    "    return lines\n",
    "\n",
    "# Load the subframe names for the three data subsets\n",
    "train_ids = load_text_ids('drive/MyDrive/train_source_images.txt')\n",
    "validate_ids = load_text_ids('drive/MyDrive/val_source_images.txt')\n",
    "test_ids = load_text_ids('drive/MyDrive/test_source_images.txt')\n"
   ]
  },
  {
   "cell_type": "code",
   "execution_count": 9,
   "metadata": {
    "colab": {
     "base_uri": "https://localhost:8080/"
    },
    "id": "9TLhXNJ1qxf4",
    "outputId": "32c5b58d-e288-41a7-9898-6e6fe063ad86"
   },
   "outputs": [
    {
     "data": {
      "text/plain": [
       "79"
      ]
     },
     "execution_count": 9,
     "metadata": {},
     "output_type": "execute_result"
    }
   ],
   "source": [
    "len(train_ids)"
   ]
  },
  {
   "cell_type": "code",
   "execution_count": 10,
   "metadata": {
    "colab": {
     "base_uri": "https://localhost:8080/"
    },
    "id": "pmCXnCOpq0nW",
    "outputId": "6e0b6c75-2c54-4d1b-d22d-1a160d6642c0"
   },
   "outputs": [
    {
     "data": {
      "text/plain": [
       "18"
      ]
     },
     "execution_count": 10,
     "metadata": {},
     "output_type": "execute_result"
    }
   ],
   "source": [
    "len(validate_ids)"
   ]
  },
  {
   "cell_type": "code",
   "execution_count": 11,
   "metadata": {
    "colab": {
     "base_uri": "https://localhost:8080/"
    },
    "id": "f7iq90Jxq3Og",
    "outputId": "383dfaa5-ca99-4233-b560-5f3620f4df18"
   },
   "outputs": [
    {
     "data": {
      "text/plain": [
       "18"
      ]
     },
     "execution_count": 11,
     "metadata": {},
     "output_type": "execute_result"
    }
   ],
   "source": [
    "len(test_ids)"
   ]
  },
  {
   "cell_type": "code",
   "execution_count": 12,
   "metadata": {
    "id": "7pXF551vqvVy"
   },
   "outputs": [],
   "source": [
    "# Generate a list containing the dataset split for the matching subdirectory names\n",
    "subdir_splits = []\n",
    "for src_id in src_image_ids:\n",
    "    if src_id in train_ids:\n",
    "        subdir_splits.append('train')\n",
    "    elif src_id in validate_ids:\n",
    "        subdir_splits.append('validate')\n",
    "    elif(src_id in test_ids):\n",
    "        subdir_splits.append('test')\n",
    "    else:\n",
    "        logging.warning(f'{src_id}: Did not find designated split in train/validate/test list.')\n",
    "        subdir_splits.append(None)"
   ]
  },
  {
   "cell_type": "code",
   "execution_count": 13,
   "metadata": {
    "colab": {
     "base_uri": "https://localhost:8080/"
    },
    "id": "m_JSWOLPq6rJ",
    "outputId": "0eabdfb2-d5cb-4645-8b1d-7801cc1a1a6e"
   },
   "outputs": [
    {
     "data": {
      "text/plain": [
       "414"
      ]
     },
     "execution_count": 13,
     "metadata": {},
     "output_type": "execute_result"
    }
   ],
   "source": [
    "len(subdir_splits)"
   ]
  },
  {
   "cell_type": "code",
   "execution_count": 14,
   "metadata": {
    "id": "zTRSADV9xx6u"
   },
   "outputs": [],
   "source": [
    "def load_and_preprocess(img_loc, label):\n",
    "    def _inner_function(img_loc, label):\n",
    "        # Convert tensor to native type\n",
    "        img_loc_str = img_loc.numpy().decode('utf-8')\n",
    "        label_str = label.numpy().decode('utf-8')\n",
    "        img = Image.open(img_loc_str).convert('RGB')\n",
    "        return img, 1 if label_str=='frost' else 0\n",
    "    # Wrap the Python function\n",
    "    X, y = tf.py_function(_inner_function, [img_loc, label], [tf.float32, tf.int64])\n",
    "    return X, y"
   ]
  },
  {
   "cell_type": "code",
   "execution_count": 15,
   "metadata": {
    "id": "Lf8zyD2LyFBB"
   },
   "outputs": [],
   "source": [
    "def load_subdir_data(dir_path, image_size, seed=None):\n",
    "    \"\"\"Helper to create a TF dataset from each image subdirectory\"\"\"\n",
    "    # Grab only the classes that (1) we want to keep and (2) exist in this directory\n",
    "    tile_dir = dir_path / Path('tiles')\n",
    "    label_dir = dir_path /Path('labels')\n",
    "    loc_list = []\n",
    "    for folder in os.listdir(tile_dir):\n",
    "        if os.path.isdir(os.path.join(tile_dir, folder)):\n",
    "            for file in os.listdir(os.path.join(tile_dir, folder)):\n",
    "                if file.endswith(\".png\"):\n",
    "                    loc_list.append((os.path.join(os.path.join(tile_dir, folder), file), folder))\n",
    "    return loc_list"
   ]
  },
  {
   "cell_type": "markdown",
   "metadata": {
    "id": "WeoMk_l7Dr2F"
   },
   "source": [
    "**Splitting the dataset into test, train and validation data**"
   ]
  },
  {
   "cell_type": "code",
   "execution_count": 16,
   "metadata": {
    "id": "EUKioATAyLQs"
   },
   "outputs": [],
   "source": [
    "# Loop over all subframes, loading each into a list\n",
    "tf_data_train, tf_data_test, tf_data_val = [], [], []\n",
    "tf_dataset_train, tf_dataset_test, tf_dataset_val = [], [], []\n",
    "\n",
    "# Update the batch and buffer size as per your model requirements\n",
    "buffer_size = 64\n",
    "batch_size = 32\n",
    "\n",
    "for subdir, split in zip(subdirs, subdir_splits):\n",
    "    full_path = data_head_dir / subdir\n",
    "    if split=='validate':\n",
    "        tf_data_val.extend(load_subdir_data(full_path, IMAGE_SIZE, SEED))\n",
    "    elif split=='train':\n",
    "        tf_data_train.extend(load_subdir_data(full_path, IMAGE_SIZE, SEED))\n",
    "    elif split=='test':\n",
    "        tf_data_test.extend(load_subdir_data(full_path, IMAGE_SIZE, SEED))\n"
   ]
  },
  {
   "cell_type": "code",
   "execution_count": 17,
   "metadata": {
    "colab": {
     "base_uri": "https://localhost:8080/"
    },
    "id": "VZBXKJe2yrW2",
    "outputId": "8c0996a3-76bf-4456-ef60-c61959e2824e"
   },
   "outputs": [
    {
     "data": {
      "text/plain": [
       "29679"
      ]
     },
     "execution_count": 17,
     "metadata": {},
     "output_type": "execute_result"
    }
   ],
   "source": [
    "len(tf_data_train)"
   ]
  },
  {
   "cell_type": "code",
   "execution_count": 18,
   "metadata": {
    "colab": {
     "base_uri": "https://localhost:8080/"
    },
    "id": "u9tm2ix2y2eN",
    "outputId": "b5af2315-dfa3-41f2-ce13-c222283c059d"
   },
   "outputs": [
    {
     "data": {
      "text/plain": [
       "12823"
      ]
     },
     "execution_count": 18,
     "metadata": {},
     "output_type": "execute_result"
    }
   ],
   "source": [
    "len(tf_data_test)"
   ]
  },
  {
   "cell_type": "code",
   "execution_count": 19,
   "metadata": {
    "colab": {
     "base_uri": "https://localhost:8080/"
    },
    "id": "0yXKm5kLy5yO",
    "outputId": "e6faf695-6ff8-426d-f968-b88808e8eeb2"
   },
   "outputs": [
    {
     "data": {
      "text/plain": [
       "11286"
      ]
     },
     "execution_count": 19,
     "metadata": {},
     "output_type": "execute_result"
    }
   ],
   "source": [
    "len(tf_data_val)"
   ]
  },
  {
   "cell_type": "markdown",
   "metadata": {
    "id": "FxhomFWvDxb8"
   },
   "source": [
    "**Function to ensure tensor size**"
   ]
  },
  {
   "cell_type": "code",
   "execution_count": 20,
   "metadata": {
    "id": "YH-Lx2v4LbSW"
   },
   "outputs": [],
   "source": [
    "def set_shape(images, labels):\n",
    "    images.set_shape([None, 299, 299, 3])\n",
    "    labels.set_shape([None, 2])\n",
    "    return images, labels"
   ]
  },
  {
   "cell_type": "markdown",
   "metadata": {
    "id": "NgmVHjg5D19e"
   },
   "source": [
    "**Function to one-hot encode labels**"
   ]
  },
  {
   "cell_type": "code",
   "execution_count": 21,
   "metadata": {
    "id": "rkK2bqC7Me1j"
   },
   "outputs": [],
   "source": [
    "def one_hot_encoding(image, label):\n",
    "    label = tf.one_hot(label, depth=2)\n",
    "    return image, label"
   ]
  },
  {
   "cell_type": "markdown",
   "metadata": {
    "id": "t6dyRjjkD8ql"
   },
   "source": [
    "**Creating train, test and validation dataset tensors**"
   ]
  },
  {
   "cell_type": "code",
   "execution_count": 22,
   "metadata": {
    "id": "Ztmh6GhKyRUT"
   },
   "outputs": [],
   "source": [
    "random.shuffle(tf_data_train)\n",
    "img_list, label_list = zip(*tf_data_train)\n",
    "img_list_t = tf.convert_to_tensor(img_list)\n",
    "lb_list_t = tf.convert_to_tensor(label_list)\n",
    "\n",
    "tf_dataset_train = tf.data.Dataset.from_tensor_slices((img_list_t, lb_list_t))\n",
    "tf_dataset_train = tf_dataset_train.map(load_and_preprocess, num_parallel_calls=tf.data.experimental.AUTOTUNE)\n",
    "tf_dataset_train = tf_dataset_train.shuffle(buffer_size=buffer_size).batch(batch_size)\n",
    "tf_dataset_train = tf_dataset_train.map(one_hot_encoding)\n",
    "tf_dataset_train = tf_dataset_train.map(set_shape)"
   ]
  },
  {
   "cell_type": "code",
   "execution_count": 23,
   "metadata": {
    "colab": {
     "base_uri": "https://localhost:8080/"
    },
    "id": "VWsBuGgCzGCA",
    "outputId": "f30aa58f-ca4c-464d-de23-f05c0e2caae1"
   },
   "outputs": [
    {
     "data": {
      "text/plain": [
       "<_MapDataset element_spec=(TensorSpec(shape=(None, 299, 299, 3), dtype=tf.float32, name=None), TensorSpec(shape=(None, 2), dtype=tf.float32, name=None))>"
      ]
     },
     "execution_count": 23,
     "metadata": {},
     "output_type": "execute_result"
    }
   ],
   "source": [
    "tf_dataset_train"
   ]
  },
  {
   "cell_type": "code",
   "execution_count": 24,
   "metadata": {
    "id": "AbOVln8hyjgF"
   },
   "outputs": [],
   "source": [
    "random.shuffle(tf_data_val)\n",
    "img_list, label_list = zip(*tf_data_val)\n",
    "img_list_t = tf.convert_to_tensor(img_list)\n",
    "lb_list_t = tf.convert_to_tensor(label_list)\n",
    "\n",
    "tf_dataset_val = tf.data.Dataset.from_tensor_slices((img_list_t, lb_list_t))\n",
    "tf_dataset_val = tf_dataset_val.map(load_and_preprocess, num_parallel_calls=tf.data.experimental.AUTOTUNE)\n",
    "tf_dataset_val = tf_dataset_val.shuffle(buffer_size=buffer_size).batch(batch_size)\n",
    "tf_dataset_val = tf_dataset_val.map(one_hot_encoding)\n",
    "tf_dataset_val = tf_dataset_val.map(set_shape)\n"
   ]
  },
  {
   "cell_type": "code",
   "execution_count": 25,
   "metadata": {
    "colab": {
     "base_uri": "https://localhost:8080/"
    },
    "id": "jV1wi0LFzXBT",
    "outputId": "339e8509-cb51-4812-fdbc-055fe00e6c79"
   },
   "outputs": [
    {
     "data": {
      "text/plain": [
       "<_MapDataset element_spec=(TensorSpec(shape=(None, 299, 299, 3), dtype=tf.float32, name=None), TensorSpec(shape=(None, 2), dtype=tf.float32, name=None))>"
      ]
     },
     "execution_count": 25,
     "metadata": {},
     "output_type": "execute_result"
    }
   ],
   "source": [
    "tf_dataset_val"
   ]
  },
  {
   "cell_type": "code",
   "execution_count": 26,
   "metadata": {
    "id": "gT32gU9tylwJ"
   },
   "outputs": [],
   "source": [
    "random.shuffle(tf_data_test)\n",
    "img_list, label_list = zip(*tf_data_test)\n",
    "img_list_t = tf.convert_to_tensor(img_list)\n",
    "lb_list_t = tf.convert_to_tensor(label_list)\n",
    "\n",
    "tf_dataset_test = tf.data.Dataset.from_tensor_slices((img_list_t, lb_list_t))\n",
    "tf_dataset_test = tf_dataset_test.map(load_and_preprocess, num_parallel_calls=tf.data.experimental.AUTOTUNE)\n",
    "tf_dataset_test = tf_dataset_test.shuffle(buffer_size=buffer_size).batch(batch_size)\n",
    "tf_dataset_test = tf_dataset_test.map(one_hot_encoding)\n",
    "tf_dataset_test = tf_dataset_test.map(set_shape)"
   ]
  },
  {
   "cell_type": "code",
   "execution_count": 27,
   "metadata": {
    "colab": {
     "base_uri": "https://localhost:8080/"
    },
    "id": "ilTjgYxYzb7P",
    "outputId": "b7ab8b8e-0d2d-4116-84a8-a2931a9d5537"
   },
   "outputs": [
    {
     "data": {
      "text/plain": [
       "<_MapDataset element_spec=(TensorSpec(shape=(None, 299, 299, 3), dtype=tf.float32, name=None), TensorSpec(shape=(None, 2), dtype=tf.float32, name=None))>"
      ]
     },
     "execution_count": 27,
     "metadata": {},
     "output_type": "execute_result"
    }
   ],
   "source": [
    "tf_dataset_test"
   ]
  },
  {
   "cell_type": "markdown",
   "metadata": {
    "id": "pV2LSQ_bEBoj"
   },
   "source": [
    "**Function to augment images and applying to the training dataset**"
   ]
  },
  {
   "cell_type": "code",
   "execution_count": 28,
   "metadata": {
    "id": "GaD_N4bn4T4j"
   },
   "outputs": [],
   "source": [
    "def augment(image, label):\n",
    "    image = tf.image.random_brightness(image, max_delta=0.3)\n",
    "    image = tf.image.random_contrast(image, lower=0.7, upper=1.3)\n",
    "    image = tf.image.rot90(image, tf.random.uniform(shape=[], minval=0, maxval=4, dtype=tf.int32))\n",
    "    return image, label\n",
    "\n",
    "tf_dataset_train_augmented = tf_dataset_train.map(\n",
    "    lambda x, y: augment(x, y),\n",
    "    num_parallel_calls=tf.data.experimental.AUTOTUNE\n",
    ")"
   ]
  },
  {
   "cell_type": "markdown",
   "metadata": {
    "id": "rHpk-aT3BL8h"
   },
   "source": [
    "### **(c) Training CNN + MLP**\n",
    "i. To perform empirical regularization, crop, randomly zoom, rotate, flip, con-\n",
    "trast, and translate images in your training set for image augmentation. You\n",
    "can use various tools to do this, including OpenCV.\n",
    "\n",
    "ii. Train a three-layer CNN followed by a dense layer on the data. Choose the\n",
    "size of the kernels and depth of the layers and the number of neurons in\n",
    "the dense layer (MLP) on your own. Use ReLU’s in all of the layers. Use\n",
    "the softmax function, batch normalization3 and a dropout rate of 30%, L2\n",
    "regularization, as well as ADAM optimizer. Use cross entropy loss. Train\n",
    "for at least 20 epochs and perform early stopping using the validation set.\n",
    "Keep the network parameters that have the lowest validation error. Plot the\n",
    "training and validation errors vs. epochs.\n",
    "\n",
    "iii. Report Precision, Recall, and F1 score for your model."
   ]
  },
  {
   "cell_type": "markdown",
   "metadata": {},
   "source": [
    "### **My Approach: Model Architecture**\n",
    "#### **First CNN Layer**\n",
    "- Conv2D: 32 filters, 3x3 kernel size, ReLU activation, same padding, L2 regularization (0.1)\n",
    "- BatchNormalization\n",
    "- MaxPooling2D: 2x2 pool size\n",
    "\n",
    "#### **Second CNN Layer**\n",
    "- Conv2D: 64 filters, 3x3 kernel size, ReLU activation, same padding, L2 regularization (0.1)\n",
    "- BatchNormalization\n",
    "- MaxPooling2D: 2x2 pool size\n",
    "\n",
    "#### **Third CNN Layer**\n",
    "- Conv2D: 128 filters, 3x3 kernel size, ReLU activation, same padding, L2 regularization (0.1)\n",
    "- BatchNormalization\n",
    "- MaxPooling2D: 2x2 pool size\n",
    "- Flatten and Dense Layers\n",
    "\n",
    "#### **Flatten**\n",
    "- Dense: 128 units, ReLU activation, L2 regularization (0.1)\n",
    "- Dropout: 30%\n",
    "- Dense: 2 units, Softmax activation\n",
    "\n",
    "#### **Model Compilation**\n",
    "- Optimizer: Adam with a learning rate of 0.00001\n",
    "- Loss Function: Categorical Crossentropy\n",
    "- Metrics: Accuracy, Precision, Recall\n",
    "\n",
    "#### **Training Settings**\n",
    "- **Early Stopping**: Monitor validation loss, patience of 7 epochs\n",
    "- **Model Checkpoint**: Save the best model based on minimum validation loss, verbose output\n",
    "- **Training**: Train for up to 20 epochs with callbacks for early stopping and model checkpointing\n",
    "- **Data**: Training with augmented data (tf_dataset_train_augmented), validation data (tf_dataset_val)\n",
    "- **Batch_Size**: 32\n",
    "\n",
    "\n"
   ]
  },
  {
   "cell_type": "markdown",
   "metadata": {
    "id": "J-4g3y_bIF7W"
   },
   "source": [
    "**Defining model architecture as per specifications**"
   ]
  },
  {
   "cell_type": "code",
   "execution_count": 29,
   "metadata": {
    "id": "wO-iH2iZOo5_"
   },
   "outputs": [],
   "source": [
    "model = Sequential([\n",
    "    # First CNN layer\n",
    "    Conv2D(32, kernel_size=(3, 3),activation = relu, padding='same', input_shape=(299, 299, 3), kernel_regularizer=l2(0.1)),\n",
    "    BatchNormalization(),\n",
    "    MaxPooling2D(pool_size=(2, 2)),\n",
    "\n",
    "    # Second CNN layer\n",
    "    Conv2D(64, kernel_size=(3, 3),activation =relu, padding='same', kernel_regularizer=l2(0.1)),\n",
    "    BatchNormalization(),\n",
    "    MaxPooling2D(pool_size=(2, 2)),\n",
    "\n",
    "    # Third CNN layer\n",
    "    Conv2D(128, kernel_size=(3, 3),activation =relu, padding='same',kernel_regularizer=l2(0.1)),\n",
    "    BatchNormalization(),\n",
    "    MaxPooling2D(pool_size=(2, 2)),\n",
    "\n",
    "    # Flatten and Dense Layers\n",
    "    Flatten(),\n",
    "    Dense(128, activation='relu', kernel_regularizer=l2(0.1)),\n",
    "    Dropout(0.3),\n",
    "    Dense(2, activation='softmax')\n",
    "])\n"
   ]
  },
  {
   "cell_type": "markdown",
   "metadata": {
    "id": "YJ6UvrFcINaW"
   },
   "source": [
    "**Training the CNN + MLP model**"
   ]
  },
  {
   "cell_type": "code",
   "execution_count": null,
   "metadata": {
    "colab": {
     "base_uri": "https://localhost:8080/"
    },
    "id": "EUeImrULOsgg",
    "outputId": "af51f2c6-0a04-4767-ad78-e463145250c3"
   },
   "outputs": [
    {
     "name": "stdout",
     "output_type": "stream",
     "text": [
      "Epoch 1/20\n",
      "928/928 [==============================] - ETA: 0s - loss: 30.7041 - accuracy: 0.7533 - precision: 0.7533 - recall: 0.7533\n",
      "Epoch 1: val_loss improved from inf to 23.40819, saving model to best_cnn.h5\n"
     ]
    },
    {
     "name": "stderr",
     "output_type": "stream",
     "text": [
      "/usr/local/lib/python3.10/dist-packages/keras/src/engine/training.py:3079: UserWarning: You are saving your model as an HDF5 file via `model.save()`. This file format is considered legacy. We recommend using instead the native Keras format, e.g. `model.save('my_model.keras')`.\n",
      "  saving_api.save_model(\n"
     ]
    },
    {
     "name": "stdout",
     "output_type": "stream",
     "text": [
      "\b\b\b\b\b\b\b\b\b\b\b\b\b\b\b\b\b\b\b\b\b\b\b\b\b\b\b\b\b\b\b\b\b\b\b\b\b\b\b\b\b\b\b\b\b\b\b\b\b\b\b\b\b\b\b\b\b\b\b\b\b\b\b\b\b\b\b\b\b\b\b\b\b\b\b\b\b\b\b\b\b\b\b\b\b\b\b\b\b\b\b\b\b\b\b\b\b\b\b\b\b\b\b\b\b\b\b\b\b\b\b\b\b\b\b\b\b\b\b\b\b\b\r\n",
      "928/928 [==============================] - 369s 382ms/step - loss: 30.7041 - accuracy: 0.7533 - precision: 0.7533 - recall: 0.7533 - val_loss: 23.4082 - val_accuracy: 0.8487 - val_precision: 0.8487 - val_recall: 0.8487\n",
      "Epoch 2/20\n",
      "928/928 [==============================] - ETA: 0s - loss: 18.7668 - accuracy: 0.8059 - precision: 0.8059 - recall: 0.8059\n",
      "Epoch 2: val_loss improved from 23.40819 to 14.98841, saving model to best_cnn.h5\n",
      "928/928 [==============================] - 368s 396ms/step - loss: 18.7668 - accuracy: 0.8059 - precision: 0.8059 - recall: 0.8059 - val_loss: 14.9884 - val_accuracy: 0.7660 - val_precision: 0.7660 - val_recall: 0.7659\n",
      "Epoch 3/20\n",
      "928/928 [==============================] - ETA: 0s - loss: 12.3336 - accuracy: 0.8359 - precision: 0.8359 - recall: 0.8359\n",
      "Epoch 3: val_loss improved from 14.98841 to 10.18356, saving model to best_cnn.h5\n",
      "928/928 [==============================] - 365s 393ms/step - loss: 12.3336 - accuracy: 0.8359 - precision: 0.8359 - recall: 0.8359 - val_loss: 10.1836 - val_accuracy: 0.8910 - val_precision: 0.8910 - val_recall: 0.8910\n",
      "Epoch 4/20\n",
      "928/928 [==============================] - ETA: 0s - loss: 8.7935 - accuracy: 0.8517 - precision: 0.8517 - recall: 0.8517\n",
      "Epoch 4: val_loss improved from 10.18356 to 7.65097, saving model to best_cnn.h5\n",
      "928/928 [==============================] - 367s 395ms/step - loss: 8.7935 - accuracy: 0.8517 - precision: 0.8517 - recall: 0.8517 - val_loss: 7.6510 - val_accuracy: 0.8934 - val_precision: 0.8934 - val_recall: 0.8934\n",
      "Epoch 5/20\n",
      "928/928 [==============================] - ETA: 0s - loss: 6.8068 - accuracy: 0.8678 - precision: 0.8678 - recall: 0.8678\n",
      "Epoch 5: val_loss improved from 7.65097 to 6.18243, saving model to best_cnn.h5\n",
      "928/928 [==============================] - 359s 386ms/step - loss: 6.8068 - accuracy: 0.8678 - precision: 0.8678 - recall: 0.8678 - val_loss: 6.1824 - val_accuracy: 0.8587 - val_precision: 0.8587 - val_recall: 0.8587\n",
      "Epoch 6/20\n",
      "928/928 [==============================] - ETA: 0s - loss: 5.6402 - accuracy: 0.8841 - precision: 0.8841 - recall: 0.8841\n",
      "Epoch 6: val_loss improved from 6.18243 to 5.24999, saving model to best_cnn.h5\n",
      "928/928 [==============================] - 365s 393ms/step - loss: 5.6402 - accuracy: 0.8841 - precision: 0.8841 - recall: 0.8841 - val_loss: 5.2500 - val_accuracy: 0.8950 - val_precision: 0.8950 - val_recall: 0.8950\n",
      "Epoch 7/20\n",
      "928/928 [==============================] - ETA: 0s - loss: 4.9017 - accuracy: 0.8962 - precision: 0.8962 - recall: 0.8962\n",
      "Epoch 7: val_loss improved from 5.24999 to 4.65220, saving model to best_cnn.h5\n",
      "928/928 [==============================] - 365s 393ms/step - loss: 4.9017 - accuracy: 0.8962 - precision: 0.8962 - recall: 0.8962 - val_loss: 4.6522 - val_accuracy: 0.9091 - val_precision: 0.9091 - val_recall: 0.9091\n",
      "Epoch 8/20\n",
      "928/928 [==============================] - ETA: 0s - loss: 4.3874 - accuracy: 0.9100 - precision: 0.9100 - recall: 0.9100\n",
      "Epoch 8: val_loss improved from 4.65220 to 4.41387, saving model to best_cnn.h5\n",
      "928/928 [==============================] - 375s 404ms/step - loss: 4.3874 - accuracy: 0.9100 - precision: 0.9100 - recall: 0.9100 - val_loss: 4.4139 - val_accuracy: 0.7646 - val_precision: 0.7646 - val_recall: 0.7646\n",
      "Epoch 9/20\n",
      "928/928 [==============================] - ETA: 0s - loss: 4.0063 - accuracy: 0.9202 - precision: 0.9202 - recall: 0.9202\n",
      "Epoch 9: val_loss improved from 4.41387 to 3.86190, saving model to best_cnn.h5\n",
      "928/928 [==============================] - 362s 390ms/step - loss: 4.0063 - accuracy: 0.9202 - precision: 0.9202 - recall: 0.9202 - val_loss: 3.8619 - val_accuracy: 0.9150 - val_precision: 0.9150 - val_recall: 0.9150\n",
      "Epoch 10/20\n",
      "928/928 [==============================] - ETA: 0s - loss: 3.7047 - accuracy: 0.9290 - precision: 0.9290 - recall: 0.9290\n",
      "Epoch 10: val_loss improved from 3.86190 to 3.66079, saving model to best_cnn.h5\n",
      "928/928 [==============================] - 366s 394ms/step - loss: 3.7047 - accuracy: 0.9290 - precision: 0.9290 - recall: 0.9290 - val_loss: 3.6608 - val_accuracy: 0.8812 - val_precision: 0.8812 - val_recall: 0.8812\n",
      "Epoch 11/20\n",
      "928/928 [==============================] - ETA: 0s - loss: 3.4480 - accuracy: 0.9371 - precision: 0.9371 - recall: 0.9371\n",
      "Epoch 11: val_loss improved from 3.66079 to 3.47401, saving model to best_cnn.h5\n",
      "928/928 [==============================] - 361s 389ms/step - loss: 3.4480 - accuracy: 0.9371 - precision: 0.9371 - recall: 0.9371 - val_loss: 3.4740 - val_accuracy: 0.8635 - val_precision: 0.8635 - val_recall: 0.8635\n",
      "Epoch 12/20\n",
      "928/928 [==============================] - ETA: 0s - loss: 3.2397 - accuracy: 0.9433 - precision: 0.9433 - recall: 0.9433\n",
      "Epoch 12: val_loss improved from 3.47401 to 3.15883, saving model to best_cnn.h5\n",
      "928/928 [==============================] - 358s 385ms/step - loss: 3.2397 - accuracy: 0.9433 - precision: 0.9433 - recall: 0.9433 - val_loss: 3.1588 - val_accuracy: 0.9384 - val_precision: 0.9384 - val_recall: 0.9384\n",
      "Epoch 13/20\n",
      "928/928 [==============================] - ETA: 0s - loss: 3.0627 - accuracy: 0.9462 - precision: 0.9462 - recall: 0.9462\n",
      "Epoch 13: val_loss improved from 3.15883 to 2.97244, saving model to best_cnn.h5\n",
      "928/928 [==============================] - 362s 390ms/step - loss: 3.0627 - accuracy: 0.9462 - precision: 0.9462 - recall: 0.9462 - val_loss: 2.9724 - val_accuracy: 0.9469 - val_precision: 0.9469 - val_recall: 0.9469\n",
      "Epoch 14/20\n",
      "928/928 [==============================] - ETA: 0s - loss: 2.8990 - accuracy: 0.9515 - precision: 0.9515 - recall: 0.9515\n",
      "Epoch 14: val_loss improved from 2.97244 to 2.81561, saving model to best_cnn.h5\n",
      "928/928 [==============================] - 366s 394ms/step - loss: 2.8990 - accuracy: 0.9515 - precision: 0.9515 - recall: 0.9515 - val_loss: 2.8156 - val_accuracy: 0.9486 - val_precision: 0.9486 - val_recall: 0.9486\n",
      "Epoch 15/20\n",
      "928/928 [==============================] - ETA: 0s - loss: 2.7578 - accuracy: 0.9547 - precision: 0.9547 - recall: 0.9547\n",
      "Epoch 15: val_loss improved from 2.81561 to 2.80237, saving model to best_cnn.h5\n",
      "928/928 [==============================] - 357s 384ms/step - loss: 2.7578 - accuracy: 0.9547 - precision: 0.9547 - recall: 0.9547 - val_loss: 2.8024 - val_accuracy: 0.9019 - val_precision: 0.9019 - val_recall: 0.9019\n",
      "Epoch 16/20\n",
      "928/928 [==============================] - ETA: 0s - loss: 2.6329 - accuracy: 0.9578 - precision: 0.9578 - recall: 0.9578\n",
      "Epoch 16: val_loss improved from 2.80237 to 2.70852, saving model to best_cnn.h5\n",
      "928/928 [==============================] - 365s 393ms/step - loss: 2.6329 - accuracy: 0.9578 - precision: 0.9578 - recall: 0.9578 - val_loss: 2.7085 - val_accuracy: 0.8954 - val_precision: 0.8954 - val_recall: 0.8954\n",
      "Epoch 17/20\n",
      "928/928 [==============================] - ETA: 0s - loss: 2.5076 - accuracy: 0.9628 - precision: 0.9628 - recall: 0.9628\n",
      "Epoch 17: val_loss improved from 2.70852 to 2.47577, saving model to best_cnn.h5\n",
      "928/928 [==============================] - 370s 398ms/step - loss: 2.5076 - accuracy: 0.9628 - precision: 0.9628 - recall: 0.9628 - val_loss: 2.4758 - val_accuracy: 0.9482 - val_precision: 0.9482 - val_recall: 0.9482\n",
      "Epoch 18/20\n",
      "928/928 [==============================] - ETA: 0s - loss: 2.4051 - accuracy: 0.9637 - precision: 0.9637 - recall: 0.9637\n",
      "Epoch 18: val_loss did not improve from 2.47577\n",
      "928/928 [==============================] - 355s 382ms/step - loss: 2.4051 - accuracy: 0.9637 - precision: 0.9637 - recall: 0.9637 - val_loss: 2.4899 - val_accuracy: 0.9078 - val_precision: 0.9078 - val_recall: 0.9078\n",
      "Epoch 19/20\n",
      "928/928 [==============================] - ETA: 0s - loss: 2.3012 - accuracy: 0.9676 - precision: 0.9676 - recall: 0.9676\n",
      "Epoch 19: val_loss improved from 2.47577 to 2.31136, saving model to best_cnn.h5\n",
      "928/928 [==============================] - 330s 355ms/step - loss: 2.3012 - accuracy: 0.9676 - precision: 0.9676 - recall: 0.9676 - val_loss: 2.3114 - val_accuracy: 0.9457 - val_precision: 0.9457 - val_recall: 0.9457\n",
      "Epoch 20/20\n",
      "928/928 [==============================] - ETA: 0s - loss: 2.2079 - accuracy: 0.9685 - precision: 0.9685 - recall: 0.9685\n",
      "Epoch 20: val_loss improved from 2.31136 to 2.27517, saving model to best_cnn.h5\n",
      "928/928 [==============================] - 365s 393ms/step - loss: 2.2079 - accuracy: 0.9685 - precision: 0.9685 - recall: 0.9685 - val_loss: 2.2752 - val_accuracy: 0.9211 - val_precision: 0.9211 - val_recall: 0.9211\n"
     ]
    }
   ],
   "source": [
    "# Compile the model\n",
    "model.compile(optimizer=Adam(learning_rate=0.00001), loss='categorical_crossentropy', metrics =['accuracy', Precision(), Recall()])\n",
    "\n",
    "# Training with Early Stopping\n",
    "early_stopping = EarlyStopping(monitor='val_loss', patience=7)\n",
    "\n",
    "# Define the ModelCheckpoint callback\n",
    "model_checkpoint = ModelCheckpoint(\n",
    "    'best_cnn.h5',\n",
    "    monitor='val_loss',\n",
    "    save_best_only=True,\n",
    "    mode='min',\n",
    "    verbose=1\n",
    ")\n",
    "\n",
    "history = model.fit(\n",
    "    tf_dataset_train_augmented,\n",
    "    epochs=20,\n",
    "    validation_data=tf_dataset_val,\n",
    "    callbacks=[early_stopping, model_checkpoint]\n",
    ")\n"
   ]
  },
  {
   "cell_type": "markdown",
   "metadata": {
    "id": "sfFXeU6AIW8M"
   },
   "source": [
    "**Plotting Training and Validation Loss vs Number of Epochs**"
   ]
  },
  {
   "cell_type": "code",
   "execution_count": null,
   "metadata": {
    "colab": {
     "base_uri": "https://localhost:8080/",
     "height": 1000
    },
    "id": "udus_120O0KP",
    "outputId": "6b7178f0-a8c9-409d-e6f9-e93d5924b010"
   },
   "outputs": [
    {
     "data": {
      "image/png": "[encoded data removed]",
      "text/plain": [
       "<Figure size 1000x1000 with 2 Axes>"
      ]
     },
     "metadata": {},
     "output_type": "display_data"
    }
   ],
   "source": [
    "import matplotlib.pyplot as plt\n",
    "\n",
    "fig, (ax1, ax2) = plt.subplots(2, 1, figsize=(10, 10))\n",
    "\n",
    "ax1.plot(history.history['loss'], label='Training Loss')\n",
    "ax1.plot(history.history['val_loss'], label='Validation Loss')\n",
    "ax1.set_title('Training and Validation Loss')\n",
    "ax1.set_xlabel('Epochs')\n",
    "ax1.set_ylabel('Loss')\n",
    "ax1.legend()\n",
    "\n",
    "ax2.plot(history.history['accuracy'], label='Training Accuracy')\n",
    "ax2.plot(history.history['val_accuracy'], label='Validation Accuracy')\n",
    "ax2.set_title('Training and Validation Accuracy')\n",
    "ax2.set_xlabel('Epochs')\n",
    "ax2.set_ylabel('Accuracy')\n",
    "ax2.legend()\n",
    "\n",
    "plt.tight_layout()\n",
    "plt.show()"
   ]
  },
  {
   "cell_type": "markdown",
   "metadata": {},
   "source": [
    "#### **Observations**\n",
    "- Both training and validation loss decrease sharply at the beginning, indicating that the model is learning effectively.\n",
    "- The training loss continues to decrease and plateau, suggesting the model is fitting well to the training data.\n",
    "- The validation loss decreases alongside the training loss and begins to plateau, implying that the model is generalizing well to unseen data.\n",
    "- There's no significant increase in validation loss, which indicates that overfitting is not occurring within the observed epochs.\n",
    "- The training accuracy increases over time, suggesting that the model is getting better at predicting the correct labels for the training data.\n",
    "- The validation accuracy fluctuates but generally increases, although not as smoothly as the training accuracy. This is common in training scenarios and could be due to the model encountering slightly different patterns in the validation data that it has not learned from the training data.\n",
    "- The validation accuracy appears to be lower than the training accuracy, which is typical, but since the gap is not wide, it suggests good model generalization.\n",
    "- There are some dips in validation accuracy, which might be due to the model encountering challenging examples or noise in the validation dataset."
   ]
  },
  {
   "cell_type": "markdown",
   "metadata": {
    "id": "b264B1JyI27H"
   },
   "source": [
    "**Loading the best model**"
   ]
  },
  {
   "cell_type": "code",
   "execution_count": 30,
   "metadata": {
    "id": "TOjzAYU7GOIg"
   },
   "outputs": [],
   "source": [
    "best_model = load_model('/content/best_cnn.h5')"
   ]
  },
  {
   "cell_type": "markdown",
   "metadata": {
    "id": "xpj5JifdI-tH"
   },
   "source": [
    "#### **Evaluating the Model on Train, Test and Validation dataset**"
   ]
  },
  {
   "cell_type": "code",
   "execution_count": 31,
   "metadata": {
    "id": "gv2MT_6DFMjf"
   },
   "outputs": [],
   "source": [
    "from sklearn.metrics import classification_report\n",
    "\n",
    "def model_evaluation(model, dataset, show_output=True):\n",
    "  true_labels = []\n",
    "  predicted_labels = []\n",
    "  for img, lbl in dataset:\n",
    "    predictions = model.predict(img, verbose=0)\n",
    "    true_labels.extend(np.argmax(lbl.numpy(), axis=1))\n",
    "    predicted_labels.extend(np.argmax(predictions, axis=1))\n",
    "  report = classification_report(true_labels,predicted_labels)\n",
    "  return report"
   ]
  },
  {
   "cell_type": "markdown",
   "metadata": {
    "id": "hhU3yZPJJT2n"
   },
   "source": [
    "**CNN + MLP performance on Augmented Training Dataset**"
   ]
  },
  {
   "cell_type": "code",
   "execution_count": 34,
   "metadata": {
    "id": "jMMT2F4DJQYw"
   },
   "outputs": [],
   "source": [
    "train_augmented_report = model_evaluation(best_model, tf_dataset_train_augmented)"
   ]
  },
  {
   "cell_type": "code",
   "execution_count": 35,
   "metadata": {
    "colab": {
     "base_uri": "https://localhost:8080/"
    },
    "id": "Nl4F_g_eg4Iw",
    "outputId": "79c54576-4d65-45e0-cf06-c7261843806c"
   },
   "outputs": [
    {
     "name": "stdout",
     "output_type": "stream",
     "text": [
      "              precision    recall  f1-score   support\n",
      "\n",
      "           0       0.93      0.99      0.96     12235\n",
      "           1       0.99      0.95      0.97     17444\n",
      "\n",
      "    accuracy                           0.97     29679\n",
      "   macro avg       0.96      0.97      0.97     29679\n",
      "weighted avg       0.97      0.97      0.97     29679\n",
      "\n"
     ]
    }
   ],
   "source": [
    "print(train_augmented_report)"
   ]
  },
  {
   "cell_type": "markdown",
   "metadata": {
    "id": "knI-PHtA7tie"
   },
   "source": [
    "**CNN + MLP performance on original Training Dataset**"
   ]
  },
  {
   "cell_type": "code",
   "execution_count": 32,
   "metadata": {
    "id": "U6TNvbgq7y3A"
   },
   "outputs": [],
   "source": [
    "train_report = model_evaluation(best_model, tf_dataset_train)"
   ]
  },
  {
   "cell_type": "code",
   "execution_count": 33,
   "metadata": {
    "colab": {
     "base_uri": "https://localhost:8080/"
    },
    "id": "O5iQ_S_371qB",
    "outputId": "22222e71-89e6-4294-ba70-0761441275e0"
   },
   "outputs": [
    {
     "name": "stdout",
     "output_type": "stream",
     "text": [
      "              precision    recall  f1-score   support\n",
      "\n",
      "           0       0.96      0.99      0.98     12235\n",
      "           1       0.99      0.97      0.98     17444\n",
      "\n",
      "    accuracy                           0.98     29679\n",
      "   macro avg       0.98      0.98      0.98     29679\n",
      "weighted avg       0.98      0.98      0.98     29679\n",
      "\n"
     ]
    }
   ],
   "source": [
    "print(train_report)"
   ]
  },
  {
   "cell_type": "markdown",
   "metadata": {
    "id": "pcPe2M22JZXu"
   },
   "source": [
    "**CNN + MLP performance on Validation Dataset**"
   ]
  },
  {
   "cell_type": "code",
   "execution_count": 36,
   "metadata": {
    "id": "e3rehOs8JSBs"
   },
   "outputs": [],
   "source": [
    "val_report = model_evaluation(best_model, tf_dataset_val)"
   ]
  },
  {
   "cell_type": "code",
   "execution_count": 37,
   "metadata": {
    "colab": {
     "base_uri": "https://localhost:8080/"
    },
    "id": "sI2fsL1Ug8dW",
    "outputId": "00e1c229-3803-4bce-d19f-dba4fa715780"
   },
   "outputs": [
    {
     "name": "stdout",
     "output_type": "stream",
     "text": [
      "              precision    recall  f1-score   support\n",
      "\n",
      "           0       0.99      0.89      0.94      7654\n",
      "           1       0.81      0.99      0.89      3632\n",
      "\n",
      "    accuracy                           0.92     11286\n",
      "   macro avg       0.90      0.94      0.91     11286\n",
      "weighted avg       0.93      0.92      0.92     11286\n",
      "\n"
     ]
    }
   ],
   "source": [
    "print(val_report)"
   ]
  },
  {
   "cell_type": "markdown",
   "metadata": {
    "id": "9uZem-zPJbj-"
   },
   "source": [
    "**CNN + MLP performance on Testing Dataset**"
   ]
  },
  {
   "cell_type": "code",
   "execution_count": 38,
   "metadata": {
    "id": "vyUlO7g4JTQK"
   },
   "outputs": [],
   "source": [
    "test_report = model_evaluation(best_model, tf_dataset_test)"
   ]
  },
  {
   "cell_type": "code",
   "execution_count": 39,
   "metadata": {
    "colab": {
     "base_uri": "https://localhost:8080/"
    },
    "id": "8bP0_mnMgUa3",
    "outputId": "c56e4bb5-80d7-455d-b85a-0c44cb6f5819"
   },
   "outputs": [
    {
     "name": "stdout",
     "output_type": "stream",
     "text": [
      "              precision    recall  f1-score   support\n",
      "\n",
      "           0       0.88      0.92      0.90      4418\n",
      "           1       0.96      0.94      0.95      8405\n",
      "\n",
      "    accuracy                           0.93     12823\n",
      "   macro avg       0.92      0.93      0.92     12823\n",
      "weighted avg       0.93      0.93      0.93     12823\n",
      "\n"
     ]
    }
   ],
   "source": [
    "print(test_report)"
   ]
  },
  {
   "cell_type": "markdown",
   "metadata": {},
   "source": [
    "#### **CNN+MLP Results - Macro Avg Scores**\n",
    "- **Train - Augmented**\n",
    "    - Precision = 0.96\n",
    "    - Recall = 0.97\n",
    "    - F1 Score = 0.97\n",
    "    - Accuracy = 0.97\n",
    "- **Train**\n",
    "    - Precision = 0.98\n",
    "    - Recall = 0.98\n",
    "    - F1 Score = 0.98\n",
    "    - Accuracy = 0.98\n",
    "- **Validation**\n",
    "    - Precision = 0.90\n",
    "    - Recall = 0.94\n",
    "    - F1 Score = 0.91\n",
    "    - Accuracy = 0.92\n",
    "- **Test**\n",
    "    - Precision = 0.92\n",
    "    - Recall = 0.93\n",
    "    - F1 Score = 0.92\n",
    "    - Accuracy = 0.93\n"
   ]
  },
  {
   "cell_type": "markdown",
   "metadata": {},
   "source": [
    "#### **Observations**\n",
    "- The CNN+MLP model exhibits strong performance on both validation and testing datasets with high accuracy, precision, recall, and F1-scores. \n",
    "- It demonstrates good generalization capabilities, as indicated by consistent metrics across both datasets. \n",
    "- There is a slight imbalance in precision and recall between the two classes, with class 'background' predictions being more precise and class 'frost' predictions having higher recall. \n",
    "- The similar performance metrics between validation and testing suggest that overfitting is unlikely, as an overfitted model would typically perform better on the validation set and see a drop in performance on the testing set"
   ]
  },
  {
   "cell_type": "markdown",
   "metadata": {},
   "source": [
    "### **(d) Transfer Learning**\n",
    "i. When dealing with classification of relatively small image datasets, deep networks may not perform very well because of not having enough data to train\n",
    "them. In such cases, one usually uses transfer learning, which uses deep\n",
    "learning models that are trained on very large datasets such as ImageNet\n",
    "as feature extractors. The idea is that such deep networks have learned to\n",
    "extract meaningful features from an image using their layers, and those fea-\n",
    "tures can be used in learning other tasks. In order to do that, usually the\n",
    "last layer or the last few layers of the pre-trained network are removed, and\n",
    "the response of the layer before the removed layers to the images in the new\n",
    "dataset is used as a feature vector to train one more multiple replacement\n",
    "layers. In this project, you will use pre-trained models (EfficientNetB0,\n",
    "ResNet50, and VGG16). For these pre-trained networks, you will only train\n",
    "the last fully connected layer, and will freeze all layers before them (i.e. we\n",
    "do not change their parameters during training) and use the outputs of the\n",
    "penultimate layer in the original pre-trained model as the features extracted\n",
    "from each image.\n",
    "\n",
    "ii. To perform empirical regularization, crop, randomly zoom, rotate, flip, contrast, and translate images in your training set for image augmentation. You\n",
    "can use various tools to do this, including OpenCV.\n",
    "\n",
    "iii. Use ReLU activation functions in the last layer and a softmax layer, along\n",
    "with batch normalization 5 and a dropout rate of 30% as well as ADAM\n",
    "optimizer. Use cross entropy loss. You can try any batch size, but a batch\n",
    "size of 8 seems reasonable.\n",
    "\n",
    "iv. Train using the features calculated by networks (EfficientNetB0, ResNet50,\n",
    "and VGG16) for at least 10 epochs (preferably 20 epochs) and perform early\n",
    "stopping using the validation set. Keep the network parameters that have the\n",
    "lowest validation error. Plot the training and validation errors vs. epochs.\n",
    "\n",
    "v. Report Precision, Recall, and F1 score for your model.\n",
    "\n",
    "vi. Compare the results of transfer learning with those of CNN + MLP model\n",
    "and explain them."
   ]
  },
  {
   "cell_type": "markdown",
   "metadata": {
    "id": "WeoMk_l7Dr2F"
   },
   "source": [
    "**Splitting the dataset into test, train and validation data with new batch size**"
   ]
  },
  {
   "cell_type": "code",
   "execution_count": 47,
   "metadata": {
    "id": "EUKioATAyLQs"
   },
   "outputs": [],
   "source": [
    "# Loop over all subframes, loading each into a list\n",
    "tf_data_train, tf_data_test, tf_data_val = [], [], []\n",
    "tf_dataset_train, tf_dataset_test, tf_dataset_val = [], [], []\n",
    "\n",
    "# Update the batch and buffer size as per your model requirements\n",
    "buffer_size = 64\n",
    "batch_size = 8\n",
    "\n",
    "for subdir, split in zip(subdirs, subdir_splits):\n",
    "    full_path = data_head_dir / subdir\n",
    "    if split=='validate':\n",
    "        tf_data_val.extend(load_subdir_data(full_path, IMAGE_SIZE, SEED))\n",
    "    elif split=='train':\n",
    "        tf_data_train.extend(load_subdir_data(full_path, IMAGE_SIZE, SEED))\n",
    "    elif split=='test':\n",
    "        tf_data_test.extend(load_subdir_data(full_path, IMAGE_SIZE, SEED))\n"
   ]
  },
  {
   "cell_type": "code",
   "execution_count": 48,
   "metadata": {
    "colab": {
     "base_uri": "https://localhost:8080/"
    },
    "id": "VZBXKJe2yrW2",
    "outputId": "d3269f5a-d22e-419e-e315-d7b6db7a86ba"
   },
   "outputs": [
    {
     "data": {
      "text/plain": [
       "29679"
      ]
     },
     "execution_count": 48,
     "metadata": {},
     "output_type": "execute_result"
    }
   ],
   "source": [
    "len(tf_data_train)"
   ]
  },
  {
   "cell_type": "code",
   "execution_count": 49,
   "metadata": {
    "colab": {
     "base_uri": "https://localhost:8080/"
    },
    "id": "u9tm2ix2y2eN",
    "outputId": "71a28c1b-1213-4bae-fc46-4ad2239d3698"
   },
   "outputs": [
    {
     "data": {
      "text/plain": [
       "12823"
      ]
     },
     "execution_count": 49,
     "metadata": {},
     "output_type": "execute_result"
    }
   ],
   "source": [
    "len(tf_data_test)"
   ]
  },
  {
   "cell_type": "code",
   "execution_count": 50,
   "metadata": {
    "colab": {
     "base_uri": "https://localhost:8080/"
    },
    "id": "0yXKm5kLy5yO",
    "outputId": "3d8f6ac0-e474-4cbd-eb63-1ca776acd495"
   },
   "outputs": [
    {
     "data": {
      "text/plain": [
       "11286"
      ]
     },
     "execution_count": 50,
     "metadata": {},
     "output_type": "execute_result"
    }
   ],
   "source": [
    "len(tf_data_val)"
   ]
  },
  {
   "cell_type": "markdown",
   "metadata": {
    "id": "t6dyRjjkD8ql"
   },
   "source": [
    "**Creating train, test and validation dataset tensors**"
   ]
  },
  {
   "cell_type": "code",
   "execution_count": 53,
   "metadata": {
    "id": "Ztmh6GhKyRUT"
   },
   "outputs": [],
   "source": [
    "random.shuffle(tf_data_train)\n",
    "img_list, label_list = zip(*tf_data_train)\n",
    "img_list_t = tf.convert_to_tensor(img_list)\n",
    "lb_list_t = tf.convert_to_tensor(label_list)\n",
    "\n",
    "tf_dataset_train = tf.data.Dataset.from_tensor_slices((img_list_t, lb_list_t))\n",
    "tf_dataset_train = tf_dataset_train.map(load_and_preprocess, num_parallel_calls=tf.data.experimental.AUTOTUNE)\n",
    "tf_dataset_train = tf_dataset_train.shuffle(buffer_size=buffer_size).batch(batch_size)\n",
    "tf_dataset_train = tf_dataset_train.map(one_hot_encoding)\n",
    "tf_dataset_train = tf_dataset_train.map(set_shape)"
   ]
  },
  {
   "cell_type": "code",
   "execution_count": 54,
   "metadata": {
    "colab": {
     "base_uri": "https://localhost:8080/"
    },
    "id": "VWsBuGgCzGCA",
    "outputId": "e20372d0-1c2a-4ac0-c983-866c4a2579fd"
   },
   "outputs": [
    {
     "data": {
      "text/plain": [
       "<_MapDataset element_spec=(TensorSpec(shape=(None, 299, 299, 3), dtype=tf.float32, name=None), TensorSpec(shape=(None, 2), dtype=tf.float32, name=None))>"
      ]
     },
     "execution_count": 54,
     "metadata": {},
     "output_type": "execute_result"
    }
   ],
   "source": [
    "tf_dataset_train"
   ]
  },
  {
   "cell_type": "code",
   "execution_count": 55,
   "metadata": {
    "id": "AbOVln8hyjgF"
   },
   "outputs": [],
   "source": [
    "random.shuffle(tf_data_val)\n",
    "img_list, label_list = zip(*tf_data_val)\n",
    "img_list_t = tf.convert_to_tensor(img_list)\n",
    "lb_list_t = tf.convert_to_tensor(label_list)\n",
    "\n",
    "tf_dataset_val = tf.data.Dataset.from_tensor_slices((img_list_t, lb_list_t))\n",
    "tf_dataset_val = tf_dataset_val.map(load_and_preprocess, num_parallel_calls=tf.data.experimental.AUTOTUNE)\n",
    "tf_dataset_val = tf_dataset_val.shuffle(buffer_size=buffer_size).batch(batch_size)\n",
    "tf_dataset_val = tf_dataset_val.map(one_hot_encoding)\n",
    "tf_dataset_val = tf_dataset_val.map(set_shape)\n"
   ]
  },
  {
   "cell_type": "code",
   "execution_count": 56,
   "metadata": {
    "colab": {
     "base_uri": "https://localhost:8080/"
    },
    "id": "jV1wi0LFzXBT",
    "outputId": "4a428733-6f33-4f7a-e235-077ceb5c5cf9"
   },
   "outputs": [
    {
     "data": {
      "text/plain": [
       "<_MapDataset element_spec=(TensorSpec(shape=(None, 299, 299, 3), dtype=tf.float32, name=None), TensorSpec(shape=(None, 2), dtype=tf.float32, name=None))>"
      ]
     },
     "execution_count": 56,
     "metadata": {},
     "output_type": "execute_result"
    }
   ],
   "source": [
    "tf_dataset_val"
   ]
  },
  {
   "cell_type": "code",
   "execution_count": 57,
   "metadata": {
    "id": "gT32gU9tylwJ"
   },
   "outputs": [],
   "source": [
    "random.shuffle(tf_data_test)\n",
    "img_list, label_list = zip(*tf_data_test)\n",
    "img_list_t = tf.convert_to_tensor(img_list)\n",
    "lb_list_t = tf.convert_to_tensor(label_list)\n",
    "\n",
    "tf_dataset_test = tf.data.Dataset.from_tensor_slices((img_list_t, lb_list_t))\n",
    "tf_dataset_test = tf_dataset_test.map(load_and_preprocess, num_parallel_calls=tf.data.experimental.AUTOTUNE)\n",
    "tf_dataset_test = tf_dataset_test.shuffle(buffer_size=buffer_size).batch(batch_size)\n",
    "tf_dataset_test = tf_dataset_test.map(one_hot_encoding)\n",
    "tf_dataset_test = tf_dataset_test.map(set_shape)"
   ]
  },
  {
   "cell_type": "code",
   "execution_count": 58,
   "metadata": {
    "colab": {
     "base_uri": "https://localhost:8080/"
    },
    "id": "ilTjgYxYzb7P",
    "outputId": "43b660b7-0842-4290-e01d-4320f7253d51"
   },
   "outputs": [
    {
     "data": {
      "text/plain": [
       "<_MapDataset element_spec=(TensorSpec(shape=(None, 299, 299, 3), dtype=tf.float32, name=None), TensorSpec(shape=(None, 2), dtype=tf.float32, name=None))>"
      ]
     },
     "execution_count": 58,
     "metadata": {},
     "output_type": "execute_result"
    }
   ],
   "source": [
    "tf_dataset_test"
   ]
  },
  {
   "cell_type": "markdown",
   "metadata": {
    "id": "pV2LSQ_bEBoj"
   },
   "source": [
    "**augmenting images and creating a new augmented training dataset**"
   ]
  },
  {
   "cell_type": "code",
   "execution_count": 59,
   "metadata": {
    "id": "GaD_N4bn4T4j"
   },
   "outputs": [],
   "source": [
    "tf_dataset_train_augmented = tf_dataset_train.map(\n",
    "    lambda x, y: augment(x, y),\n",
    "    num_parallel_calls=tf.data.experimental.AUTOTUNE\n",
    ")"
   ]
  },
  {
   "cell_type": "markdown",
   "metadata": {},
   "source": [
    "### **EfficientNetB0 model**"
   ]
  },
  {
   "cell_type": "markdown",
   "metadata": {},
   "source": [
    "#### **My Approach - Model Configuration**\n",
    "- **Base Model**: EfficientNetB0 pre-trained on ImageNet.\n",
    "- **Trainable**: Base model layers are frozen (not trainable) to preserve the pre-trained features.\n",
    "- **Custom Layers Added**:\n",
    "    - **GlobalAveragePooling2D**: Reduces the spatial dimensions to a vector.\n",
    "    - **Dense Layer**: 1024 units, ReLU activation, L2 regularization with a factor of 0.1.\n",
    "    - **BatchNormalization**: Applied after the dense layer.\n",
    "    - **Dropout**: Set to 30% to reduce overfitting by randomly setting input units to 0 at each update during training.\n",
    "    - **Output Layer**: Dense layer with 2 units (assuming binary classification) with a softmax activation function.\n",
    "\n",
    "**Compilation Settings**:\n",
    "- **Optimizer**: Adam with a learning rate of 0.00001.\n",
    "- **Loss Function**: Categorical crossentropy.\n",
    "- **Metrics**: Accuracy, Precision, and Recall.\n",
    "\n",
    "**Training Configuration**:\n",
    "- **EarlyStopping Callback**: Monitor validation loss with a patience of 7 epochs before stopping.\n",
    "- **ModelCheckpoint Callback**: Save the best model based on the minimum validation loss.\n",
    "- **Verbose**: Set to 1 for the ModelCheckpoint to print out when a better model is saved.\n",
    "- **Epochs**: The model is set to train for a maximum of 20 epochs.\n",
    "- **Data**: Trained on an augmented training dataset (tf_dataset_train_augmented) with a separate validation dataset (tf_dataset_val).\n",
    "- **Batch_Size**: 8"
   ]
  },
  {
   "cell_type": "markdown",
   "metadata": {
    "id": "J-4g3y_bIF7W"
   },
   "source": [
    "**Loading the EfficientNetB0 model**"
   ]
  },
  {
   "cell_type": "code",
   "execution_count": 60,
   "metadata": {
    "id": "wO-iH2iZOo5_"
   },
   "outputs": [],
   "source": [
    "from tensorflow.keras.applications import EfficientNetB0\n",
    "from tensorflow.keras.layers import GlobalAveragePooling2D, Dense, BatchNormalization, Dropout\n",
    "from tensorflow.keras.models import Model\n",
    "\n",
    "# Load the pre-trained model\n",
    "base_model = EfficientNetB0(weights='imagenet', include_top=False)\n",
    "base_model.trainable = False  # Freeze the layers\n",
    "\n",
    "# Add custom layers\n",
    "x = GlobalAveragePooling2D()(base_model.output)\n",
    "x = Dense(1024, activation='relu',kernel_regularizer=tf.keras.regularizers.l2(0.1))(x)\n",
    "x = BatchNormalization()(x)\n",
    "x = Dropout(0.3)(x)\n",
    "predictions = Dense(2, activation='softmax')(x)\n",
    "\n",
    "# Create the final model\n",
    "model = Model(inputs=base_model.input, outputs=predictions)\n"
   ]
  },
  {
   "cell_type": "markdown",
   "metadata": {
    "id": "YJ6UvrFcINaW"
   },
   "source": [
    "**Training the model**"
   ]
  },
  {
   "cell_type": "code",
   "execution_count": 61,
   "metadata": {
    "colab": {
     "base_uri": "https://localhost:8080/"
    },
    "id": "EUeImrULOsgg",
    "outputId": "ffec24b8-ecae-4ecc-dba3-4f3c2471a2dd"
   },
   "outputs": [
    {
     "name": "stdout",
     "output_type": "stream",
     "text": [
      "Epoch 1/20\n",
      "3710/3710 [==============================] - ETA: 0s - loss: 59.5897 - accuracy: 0.8234 - precision_2: 0.8234 - recall_2: 0.8234\n",
      "Epoch 1: val_loss improved from inf to 24.89962, saving model to best_enB0_v2.h5\n",
      "3710/3710 [==============================] - 168s 43ms/step - loss: 59.5897 - accuracy: 0.8234 - precision_2: 0.8234 - recall_2: 0.8234 - val_loss: 24.8996 - val_accuracy: 0.8434 - val_precision_2: 0.8434 - val_recall_2: 0.8434\n",
      "Epoch 2/20\n",
      "3708/3710 [============================>.] - ETA: 0s - loss: 13.5229 - accuracy: 0.8983 - precision_2: 0.8983 - recall_2: 0.8983\n",
      "Epoch 2: val_loss improved from 24.89962 to 7.25969, saving model to best_enB0_v2.h5\n",
      "3710/3710 [==============================] - 159s 43ms/step - loss: 13.5198 - accuracy: 0.8982 - precision_2: 0.8982 - recall_2: 0.8982 - val_loss: 7.2597 - val_accuracy: 0.8646 - val_precision_2: 0.8646 - val_recall_2: 0.8646\n",
      "Epoch 3/20\n",
      "3710/3710 [==============================] - ETA: 0s - loss: 4.9373 - accuracy: 0.9135 - precision_2: 0.9135 - recall_2: 0.9135\n",
      "Epoch 3: val_loss improved from 7.25969 to 3.54646, saving model to best_enB0_v2.h5\n",
      "3710/3710 [==============================] - 160s 43ms/step - loss: 4.9373 - accuracy: 0.9135 - precision_2: 0.9135 - recall_2: 0.9135 - val_loss: 3.5465 - val_accuracy: 0.8438 - val_precision_2: 0.8438 - val_recall_2: 0.8438\n",
      "Epoch 4/20\n",
      "3710/3710 [==============================] - ETA: 0s - loss: 2.6314 - accuracy: 0.9213 - precision_2: 0.9213 - recall_2: 0.9213\n",
      "Epoch 4: val_loss improved from 3.54646 to 2.26132, saving model to best_enB0_v2.h5\n",
      "3710/3710 [==============================] - 159s 43ms/step - loss: 2.6314 - accuracy: 0.9213 - precision_2: 0.9213 - recall_2: 0.9213 - val_loss: 2.2613 - val_accuracy: 0.8181 - val_precision_2: 0.8181 - val_recall_2: 0.8181\n",
      "Epoch 5/20\n",
      "3708/3710 [============================>.] - ETA: 0s - loss: 1.6658 - accuracy: 0.9297 - precision_2: 0.9297 - recall_2: 0.9297\n",
      "Epoch 5: val_loss improved from 2.26132 to 1.54288, saving model to best_enB0_v2.h5\n",
      "3710/3710 [==============================] - 157s 42ms/step - loss: 1.6656 - accuracy: 0.9297 - precision_2: 0.9297 - recall_2: 0.9297 - val_loss: 1.5429 - val_accuracy: 0.8526 - val_precision_2: 0.8526 - val_recall_2: 0.8526\n",
      "Epoch 6/20\n",
      "3708/3710 [============================>.] - ETA: 0s - loss: 1.1790 - accuracy: 0.9312 - precision_2: 0.9312 - recall_2: 0.9312\n",
      "Epoch 6: val_loss improved from 1.54288 to 1.13694, saving model to best_enB0_v2.h5\n",
      "3710/3710 [==============================] - 157s 42ms/step - loss: 1.1789 - accuracy: 0.9312 - precision_2: 0.9312 - recall_2: 0.9312 - val_loss: 1.1369 - val_accuracy: 0.8652 - val_precision_2: 0.8652 - val_recall_2: 0.8652\n",
      "Epoch 7/20\n",
      "3708/3710 [============================>.] - ETA: 0s - loss: 0.8923 - accuracy: 0.9340 - precision_2: 0.9340 - recall_2: 0.9340\n",
      "Epoch 7: val_loss improved from 1.13694 to 0.96784, saving model to best_enB0_v2.h5\n",
      "3710/3710 [==============================] - 157s 42ms/step - loss: 0.8922 - accuracy: 0.9341 - precision_2: 0.9341 - recall_2: 0.9341 - val_loss: 0.9678 - val_accuracy: 0.8590 - val_precision_2: 0.8590 - val_recall_2: 0.8590\n",
      "Epoch 8/20\n",
      "3708/3710 [============================>.] - ETA: 0s - loss: 0.7097 - accuracy: 0.9398 - precision_2: 0.9398 - recall_2: 0.9398\n",
      "Epoch 8: val_loss improved from 0.96784 to 0.78198, saving model to best_enB0_v2.h5\n",
      "3710/3710 [==============================] - 157s 42ms/step - loss: 0.7096 - accuracy: 0.9399 - precision_2: 0.9399 - recall_2: 0.9399 - val_loss: 0.7820 - val_accuracy: 0.8656 - val_precision_2: 0.8656 - val_recall_2: 0.8656\n",
      "Epoch 9/20\n",
      "3710/3710 [==============================] - ETA: 0s - loss: 0.5883 - accuracy: 0.9399 - precision_2: 0.9399 - recall_2: 0.9399\n",
      "Epoch 9: val_loss did not improve from 0.78198\n",
      "3710/3710 [==============================] - 157s 42ms/step - loss: 0.5883 - accuracy: 0.9399 - precision_2: 0.9399 - recall_2: 0.9399 - val_loss: 1.1010 - val_accuracy: 0.7547 - val_precision_2: 0.7547 - val_recall_2: 0.7547\n",
      "Epoch 10/20\n",
      "3710/3710 [==============================] - ETA: 0s - loss: 0.5037 - accuracy: 0.9404 - precision_2: 0.9404 - recall_2: 0.9404\n",
      "Epoch 10: val_loss improved from 0.78198 to 0.60351, saving model to best_enB0_v2.h5\n",
      "3710/3710 [==============================] - 159s 43ms/step - loss: 0.5037 - accuracy: 0.9404 - precision_2: 0.9404 - recall_2: 0.9404 - val_loss: 0.6035 - val_accuracy: 0.8702 - val_precision_2: 0.8702 - val_recall_2: 0.8702\n",
      "Epoch 11/20\n",
      "3710/3710 [==============================] - ETA: 0s - loss: 0.4435 - accuracy: 0.9413 - precision_2: 0.9413 - recall_2: 0.9413\n",
      "Epoch 11: val_loss did not improve from 0.60351\n",
      "3710/3710 [==============================] - 159s 43ms/step - loss: 0.4435 - accuracy: 0.9413 - precision_2: 0.9413 - recall_2: 0.9413 - val_loss: 0.7574 - val_accuracy: 0.8135 - val_precision_2: 0.8135 - val_recall_2: 0.8135\n",
      "Epoch 12/20\n",
      "3708/3710 [============================>.] - ETA: 0s - loss: 0.3957 - accuracy: 0.9416 - precision_2: 0.9416 - recall_2: 0.9416\n",
      "Epoch 12: val_loss improved from 0.60351 to 0.58964, saving model to best_enB0_v2.h5\n",
      "3710/3710 [==============================] - 159s 43ms/step - loss: 0.3957 - accuracy: 0.9416 - precision_2: 0.9416 - recall_2: 0.9416 - val_loss: 0.5896 - val_accuracy: 0.8487 - val_precision_2: 0.8487 - val_recall_2: 0.8487\n",
      "Epoch 13/20\n",
      "3710/3710 [==============================] - ETA: 0s - loss: 0.3523 - accuracy: 0.9447 - precision_2: 0.9447 - recall_2: 0.9447\n",
      "Epoch 13: val_loss did not improve from 0.58964\n",
      "3710/3710 [==============================] - 160s 43ms/step - loss: 0.3523 - accuracy: 0.9447 - precision_2: 0.9447 - recall_2: 0.9447 - val_loss: 0.6031 - val_accuracy: 0.8361 - val_precision_2: 0.8361 - val_recall_2: 0.8361\n",
      "Epoch 14/20\n",
      "3709/3710 [============================>.] - ETA: 0s - loss: 0.3266 - accuracy: 0.9453 - precision_2: 0.9453 - recall_2: 0.9453\n",
      "Epoch 14: val_loss improved from 0.58964 to 0.53277, saving model to best_enB0_v2.h5\n",
      "3710/3710 [==============================] - 164s 44ms/step - loss: 0.3267 - accuracy: 0.9453 - precision_2: 0.9453 - recall_2: 0.9453 - val_loss: 0.5328 - val_accuracy: 0.8457 - val_precision_2: 0.8457 - val_recall_2: 0.8457\n",
      "Epoch 15/20\n",
      "3710/3710 [==============================] - ETA: 0s - loss: 0.3042 - accuracy: 0.9461 - precision_2: 0.9461 - recall_2: 0.9461\n",
      "Epoch 15: val_loss did not improve from 0.53277\n",
      "3710/3710 [==============================] - 159s 43ms/step - loss: 0.3042 - accuracy: 0.9461 - precision_2: 0.9461 - recall_2: 0.9461 - val_loss: 0.6036 - val_accuracy: 0.8164 - val_precision_2: 0.8164 - val_recall_2: 0.8164\n",
      "Epoch 16/20\n",
      "3710/3710 [==============================] - ETA: 0s - loss: 0.2857 - accuracy: 0.9461 - precision_2: 0.9461 - recall_2: 0.9461\n",
      "Epoch 16: val_loss did not improve from 0.53277\n",
      "3710/3710 [==============================] - 157s 42ms/step - loss: 0.2857 - accuracy: 0.9461 - precision_2: 0.9461 - recall_2: 0.9461 - val_loss: 0.5537 - val_accuracy: 0.8315 - val_precision_2: 0.8315 - val_recall_2: 0.8315\n",
      "Epoch 17/20\n",
      "3708/3710 [============================>.] - ETA: 0s - loss: 0.2750 - accuracy: 0.9462 - precision_2: 0.9462 - recall_2: 0.9462\n",
      "Epoch 17: val_loss did not improve from 0.53277\n",
      "3710/3710 [==============================] - 157s 42ms/step - loss: 0.2749 - accuracy: 0.9463 - precision_2: 0.9463 - recall_2: 0.9463 - val_loss: 0.5750 - val_accuracy: 0.8128 - val_precision_2: 0.8128 - val_recall_2: 0.8128\n",
      "Epoch 18/20\n",
      "3710/3710 [==============================] - ETA: 0s - loss: 0.2569 - accuracy: 0.9474 - precision_2: 0.9474 - recall_2: 0.9474\n",
      "Epoch 18: val_loss did not improve from 0.53277\n",
      "3710/3710 [==============================] - 157s 42ms/step - loss: 0.2569 - accuracy: 0.9474 - precision_2: 0.9474 - recall_2: 0.9474 - val_loss: 0.5485 - val_accuracy: 0.8303 - val_precision_2: 0.8303 - val_recall_2: 0.8303\n",
      "Epoch 19/20\n",
      "3709/3710 [============================>.] - ETA: 0s - loss: 0.2443 - accuracy: 0.9476 - precision_2: 0.9476 - recall_2: 0.9476\n",
      "Epoch 19: val_loss did not improve from 0.53277\n",
      "3710/3710 [==============================] - 157s 42ms/step - loss: 0.2443 - accuracy: 0.9476 - precision_2: 0.9476 - recall_2: 0.9476 - val_loss: 0.6854 - val_accuracy: 0.7799 - val_precision_2: 0.7799 - val_recall_2: 0.7799\n",
      "Epoch 20/20\n",
      "3710/3710 [==============================] - ETA: 0s - loss: 0.2392 - accuracy: 0.9483 - precision_2: 0.9483 - recall_2: 0.9483\n",
      "Epoch 20: val_loss improved from 0.53277 to 0.43196, saving model to best_enB0_v2.h5\n",
      "3710/3710 [==============================] - 157s 42ms/step - loss: 0.2392 - accuracy: 0.9483 - precision_2: 0.9483 - recall_2: 0.9483 - val_loss: 0.4320 - val_accuracy: 0.8563 - val_precision_2: 0.8563 - val_recall_2: 0.8563\n"
     ]
    }
   ],
   "source": [
    "# Compile the model\n",
    "model.compile(optimizer=Adam(learning_rate=0.00001), loss='categorical_crossentropy', metrics =['accuracy', Precision(), Recall()])\n",
    "\n",
    "# Training with Early Stopping\n",
    "early_stopping = EarlyStopping(monitor='val_loss', patience=7)\n",
    "\n",
    "# Define the ModelCheckpoint callback\n",
    "model_checkpoint = ModelCheckpoint(\n",
    "    'best_enB0_v2.h5',\n",
    "    monitor='val_loss',\n",
    "    save_best_only=True,\n",
    "    mode='min',\n",
    "    verbose=1\n",
    ")\n",
    "\n",
    "history = model.fit(\n",
    "    tf_dataset_train_augmented,\n",
    "    epochs=20,\n",
    "    validation_data=tf_dataset_val,\n",
    "    callbacks=[early_stopping, model_checkpoint]\n",
    ")\n"
   ]
  },
  {
   "cell_type": "markdown",
   "metadata": {
    "id": "sfFXeU6AIW8M"
   },
   "source": [
    "**Plotting Training and Validation Loss vs Number of Epochs**"
   ]
  },
  {
   "cell_type": "code",
   "execution_count": 62,
   "metadata": {
    "colab": {
     "base_uri": "https://localhost:8080/",
     "height": 1000
    },
    "id": "udus_120O0KP",
    "outputId": "1c236741-1a23-4a67-a257-633552862a55"
   },
   "outputs": [
    {
     "data": {
      "image/png": "[encoded data removed]",
      "text/plain": [
       "<Figure size 1000x1000 with 2 Axes>"
      ]
     },
     "metadata": {},
     "output_type": "display_data"
    }
   ],
   "source": [
    "import matplotlib.pyplot as plt\n",
    "\n",
    "fig, (ax1, ax2) = plt.subplots(2, 1, figsize=(10, 10))\n",
    "\n",
    "ax1.plot(history.history['loss'], label='Training Loss')\n",
    "ax1.plot(history.history['val_loss'], label='Validation Loss')\n",
    "ax1.set_title('Training and Validation Loss')\n",
    "ax1.set_xlabel('Epochs')\n",
    "ax1.set_ylabel('Loss')\n",
    "ax1.legend()\n",
    "\n",
    "ax2.plot(history.history['accuracy'], label='Training Accuracy')\n",
    "ax2.plot(history.history['val_accuracy'], label='Validation Accuracy')\n",
    "ax2.set_title('Training and Validation Accuracy')\n",
    "ax2.set_xlabel('Epochs')\n",
    "ax2.set_ylabel('Accuracy')\n",
    "ax2.legend()\n",
    "\n",
    "plt.tight_layout()\n",
    "plt.show()"
   ]
  },
  {
   "cell_type": "markdown",
   "metadata": {},
   "source": [
    "#### **Observations**\n",
    "- The training and validation loss both decrease sharply and then level off, indicating that the model is learning and improving its predictions over epochs.\n",
    "- The losses converge, suggesting that the model is not overfitting significantly since the validation loss follows the training loss closely.\n",
    "- The training accuracy increases and reaches a plateau, showing that the model performs consistently on the training data.\n",
    "- The validation accuracy is volatile and generally lower than the training accuracy, indicating the model may face some challenges generalizing to the validation data.\n",
    "- Despite fluctuations, the validation accuracy doesn't show a downward trend, so there's no clear sign of overfitting."
   ]
  },
  {
   "cell_type": "markdown",
   "metadata": {
    "id": "b264B1JyI27H"
   },
   "source": [
    "**Loading the best model**"
   ]
  },
  {
   "cell_type": "code",
   "execution_count": 63,
   "metadata": {
    "id": "TOjzAYU7GOIg"
   },
   "outputs": [],
   "source": [
    "best_model = load_model('/content/best_enB0_v2.h5')"
   ]
  },
  {
   "cell_type": "markdown",
   "metadata": {
    "id": "xpj5JifdI-tH"
   },
   "source": [
    "#### **Evaluating the Model on Train, Test and Validation dataset**"
   ]
  },
  {
   "cell_type": "markdown",
   "metadata": {
    "id": "hhU3yZPJJT2n"
   },
   "source": [
    "**EfficientNetB0 performance on Augmented Training Dataset**"
   ]
  },
  {
   "cell_type": "code",
   "execution_count": 65,
   "metadata": {
    "id": "jMMT2F4DJQYw"
   },
   "outputs": [],
   "source": [
    "train_augmented_report = model_evaluation(best_model, tf_dataset_train_augmented)"
   ]
  },
  {
   "cell_type": "code",
   "execution_count": 66,
   "metadata": {
    "colab": {
     "base_uri": "https://localhost:8080/"
    },
    "id": "Nl4F_g_eg4Iw",
    "outputId": "06f19592-6899-46ef-9898-799822920a4a"
   },
   "outputs": [
    {
     "name": "stdout",
     "output_type": "stream",
     "text": [
      "              precision    recall  f1-score   support\n",
      "\n",
      "           0       0.99      0.97      0.98     12235\n",
      "           1       0.98      0.99      0.99     17444\n",
      "\n",
      "    accuracy                           0.98     29679\n",
      "   macro avg       0.98      0.98      0.98     29679\n",
      "weighted avg       0.98      0.98      0.98     29679\n",
      "\n"
     ]
    }
   ],
   "source": [
    "print(train_augmented_report)"
   ]
  },
  {
   "cell_type": "markdown",
   "metadata": {
    "id": "PtRHCXzUTMQY"
   },
   "source": [
    "**EfficientNetB0 performance on original Training Dataset**"
   ]
  },
  {
   "cell_type": "code",
   "execution_count": 67,
   "metadata": {
    "id": "iqQMe_lMTRx4"
   },
   "outputs": [],
   "source": [
    "train_report = model_evaluation(best_model, tf_dataset_train)"
   ]
  },
  {
   "cell_type": "code",
   "execution_count": 68,
   "metadata": {
    "colab": {
     "base_uri": "https://localhost:8080/"
    },
    "id": "K-4gEmQATW8D",
    "outputId": "9e5bbe0f-7ffb-48a4-b8e7-d6ee6eec1e11"
   },
   "outputs": [
    {
     "name": "stdout",
     "output_type": "stream",
     "text": [
      "              precision    recall  f1-score   support\n",
      "\n",
      "           0       0.99      0.97      0.98     12235\n",
      "           1       0.98      0.99      0.99     17444\n",
      "\n",
      "    accuracy                           0.99     29679\n",
      "   macro avg       0.99      0.98      0.98     29679\n",
      "weighted avg       0.99      0.99      0.98     29679\n",
      "\n"
     ]
    }
   ],
   "source": [
    "print(train_report)"
   ]
  },
  {
   "cell_type": "markdown",
   "metadata": {
    "id": "pcPe2M22JZXu"
   },
   "source": [
    "**EfficientNetB0 performance on Validation Dataset**"
   ]
  },
  {
   "cell_type": "code",
   "execution_count": 69,
   "metadata": {
    "id": "e3rehOs8JSBs"
   },
   "outputs": [],
   "source": [
    "val_report = model_evaluation(best_model, tf_dataset_val)"
   ]
  },
  {
   "cell_type": "code",
   "execution_count": 70,
   "metadata": {
    "colab": {
     "base_uri": "https://localhost:8080/"
    },
    "id": "sI2fsL1Ug8dW",
    "outputId": "54e46257-f9dd-46d5-fd57-7d3277181c2a"
   },
   "outputs": [
    {
     "name": "stdout",
     "output_type": "stream",
     "text": [
      "              precision    recall  f1-score   support\n",
      "\n",
      "           0       0.98      0.80      0.88      7654\n",
      "           1       0.70      0.97      0.81      3632\n",
      "\n",
      "    accuracy                           0.86     11286\n",
      "   macro avg       0.84      0.89      0.85     11286\n",
      "weighted avg       0.89      0.86      0.86     11286\n",
      "\n"
     ]
    }
   ],
   "source": [
    "print(val_report)"
   ]
  },
  {
   "cell_type": "markdown",
   "metadata": {
    "id": "9uZem-zPJbj-"
   },
   "source": [
    "**EfficientNetB0 performance on Testing Dataset**"
   ]
  },
  {
   "cell_type": "code",
   "execution_count": 71,
   "metadata": {
    "id": "vyUlO7g4JTQK"
   },
   "outputs": [],
   "source": [
    "test_report = model_evaluation(best_model, tf_dataset_test)"
   ]
  },
  {
   "cell_type": "code",
   "execution_count": 72,
   "metadata": {
    "colab": {
     "base_uri": "https://localhost:8080/"
    },
    "id": "8bP0_mnMgUa3",
    "outputId": "c2aa1cb0-166a-41ea-9d0a-3dd893ccf728"
   },
   "outputs": [
    {
     "name": "stdout",
     "output_type": "stream",
     "text": [
      "              precision    recall  f1-score   support\n",
      "\n",
      "           0       0.95      0.88      0.91      4418\n",
      "           1       0.94      0.98      0.96      8405\n",
      "\n",
      "    accuracy                           0.94     12823\n",
      "   macro avg       0.94      0.93      0.93     12823\n",
      "weighted avg       0.94      0.94      0.94     12823\n",
      "\n"
     ]
    }
   ],
   "source": [
    "print(test_report)"
   ]
  },
  {
   "cell_type": "markdown",
   "metadata": {},
   "source": [
    "#### **EffiecientNetB0 Results - Macro Avg Scores**\n",
    "- **Train - Augmented**\n",
    "    - Precision = 0.98\n",
    "    - Recall = 0.98\n",
    "    - F1 Score = 0.98\n",
    "    - Accuracy = 0.98\n",
    "- **Train**\n",
    "    - Precision = 0.99\n",
    "    - Recall = 0.98\n",
    "    - F1 Score = 0.98\n",
    "    - Accuracy = 0.99\n",
    "- **Validation**\n",
    "    - Precision = 0.84\n",
    "    - Recall = 0.89\n",
    "    - F1 Score = 0.85\n",
    "    - Accuracy = 0.86\n",
    "- **Test**\n",
    "    - Precision = 0.94\n",
    "    - Recall = 0.93\n",
    "    - F1 Score = 0.93\n",
    "    - Accuracy = 0.94"
   ]
  },
  {
   "cell_type": "markdown",
   "metadata": {},
   "source": [
    "#### **Observations**\n",
    "- The EfficientNetB0 model demonstrates strong and balanced performance, with high precision and recall across both validation and testing datasets. - It shows a slight preference for recall over precision on the validation set, indicating more false positives for class 'frost', but this is less pronounced in the testing set where both metrics are high. \n",
    "- Overall, the model is accurate (above 85% on validation set and 94% on test) and generalizes well to new data."
   ]
  },
  {
   "cell_type": "markdown",
   "metadata": {},
   "source": [
    "### **ResNet50 model**"
   ]
  },
  {
   "cell_type": "markdown",
   "metadata": {},
   "source": [
    "#### **My Approach - Model Configuration**\n",
    "- **Base Model**: ResNet50 pre-trained on ImageNet.\n",
    "- **Trainable**: Base model layers are frozen (not trainable) to preserve the pre-trained features.\n",
    "- **Custom Layers Added**:\n",
    "  - **GlobalAveragePooling2D**: Reduces the spatial dimensions to a vector.\n",
    "  - **Dense Layer**: 1024 units, ReLU activation, L2 regularization with a factor of 0.1.\n",
    "  - **BatchNormalization**: Applied after the dense layer.\n",
    "  - **Dropout**: Set to 30% to reduce overfitting by randomly setting input units to 0 at each update during training.\n",
    "  - **Output Layer**: Dense layer with 2 units (assuming binary classification) with a softmax activation function.\n",
    "\n",
    "**Compilation Settings**:\n",
    "- **Optimizer**: Adam with a learning rate of 0.00001.\n",
    "- **Loss Function**: Categorical crossentropy.\n",
    "- **Metrics**: Accuracy, Precision, and Recall.\n",
    "\n",
    "**Training Configuration**:\n",
    "- **EarlyStopping Callback**: Monitor validation loss with a patience of 7 epochs before stopping.\n",
    "- **ModelCheckpoint Callback**: Save the best model based on the minimum validation loss, named 'best_rn50_v2.h5'.\n",
    "- **Verbose**: Set to 1 for the ModelCheckpoint to print out when a better model is saved.\n",
    "- **Epochs**: The model is set to train for a maximum of 20 epochs.\n",
    "- **Data**: Trained on an augmented training dataset (`tf_dataset_train_augmented`) with a separate validation dataset (`tf_dataset_val`).\n",
    "- **Batch_Size**: 8\n"
   ]
  },
  {
   "cell_type": "markdown",
   "metadata": {
    "id": "J-4g3y_bIF7W"
   },
   "source": [
    "**Loading the ResNet50 model**"
   ]
  },
  {
   "cell_type": "code",
   "execution_count": 30,
   "metadata": {
    "colab": {
     "base_uri": "https://localhost:8080/"
    },
    "id": "wO-iH2iZOo5_",
    "outputId": "58ebaadd-5675-43d2-9358-922cd2e711c3"
   },
   "outputs": [
    {
     "name": "stdout",
     "output_type": "stream",
     "text": [
      "Downloading data from https://storage.googleapis.com/tensorflow/keras-applications/resnet/resnet50_weights_tf_dim_ordering_tf_kernels_notop.h5\n",
      "94765736/94765736 [==============================] - 3s 0us/step\n"
     ]
    }
   ],
   "source": [
    "from tensorflow.keras.applications import ResNet50\n",
    "from tensorflow.keras.layers import GlobalAveragePooling2D, Dense, BatchNormalization, Dropout\n",
    "from tensorflow.keras.models import Model\n",
    "\n",
    "# Load the pre-trained ResNet50 model\n",
    "base_model = ResNet50(weights='imagenet', include_top=False)\n",
    "base_model.trainable = False  # Freeze the layers\n",
    "\n",
    "# Add custom layers\n",
    "x = GlobalAveragePooling2D()(base_model.output)\n",
    "x = Dense(1024, activation='relu',kernel_regularizer=tf.keras.regularizers.l2(0.1))(x)\n",
    "x = BatchNormalization()(x)\n",
    "x = Dropout(0.3)(x)\n",
    "predictions = Dense(2, activation='softmax')(x)\n",
    "\n",
    "# Create the final model\n",
    "model = Model(inputs=base_model.input, outputs=predictions)\n",
    "\n"
   ]
  },
  {
   "cell_type": "markdown",
   "metadata": {
    "id": "YJ6UvrFcINaW"
   },
   "source": [
    "**Training the model**"
   ]
  },
  {
   "cell_type": "code",
   "execution_count": 32,
   "metadata": {
    "colab": {
     "base_uri": "https://localhost:8080/"
    },
    "id": "EUeImrULOsgg",
    "outputId": "ceeaaeea-8ffb-4204-9a56-1f025b9ab230"
   },
   "outputs": [
    {
     "name": "stdout",
     "output_type": "stream",
     "text": [
      "Epoch 1/20\n",
      "3710/3710 [==============================] - ETA: 0s - loss: 60.0983 - accuracy: 0.8496 - precision_1: 0.8496 - recall_1: 0.8496\n",
      "Epoch 1: val_loss improved from inf to 19.05679, saving model to best_rn50_v2.h5\n"
     ]
    },
    {
     "name": "stderr",
     "output_type": "stream",
     "text": [
      "/usr/local/lib/python3.10/dist-packages/keras/src/engine/training.py:3079: UserWarning: You are saving your model as an HDF5 file via `model.save()`. This file format is considered legacy. We recommend using instead the native Keras format, e.g. `model.save('my_model.keras')`.\n",
      "  saving_api.save_model(\n"
     ]
    },
    {
     "name": "stdout",
     "output_type": "stream",
     "text": [
      "\b\b\b\b\b\b\b\b\b\b\b\b\b\b\b\b\b\b\b\b\b\b\b\b\b\b\b\b\b\b\b\b\b\b\b\b\b\b\b\b\b\b\b\b\b\b\b\b\b\b\b\b\b\b\b\b\b\b\b\b\b\b\b\b\b\b\b\b\b\b\b\b\b\b\b\b\b\b\b\b\b\b\b\b\b\b\b\b\b\b\b\b\b\b\b\b\b\b\b\b\b\b\b\b\b\b\b\b\b\b\b\b\b\b\b\b\b\b\b\b\b\b\b\b\b\b\b\b\r\n",
      "3710/3710 [==============================] - 196s 51ms/step - loss: 60.0983 - accuracy: 0.8496 - precision_1: 0.8496 - recall_1: 0.8496 - val_loss: 19.0568 - val_accuracy: 0.8592 - val_precision_1: 0.8592 - val_recall_1: 0.8592\n",
      "Epoch 2/20\n",
      "3708/3710 [============================>.] - ETA: 0s - loss: 9.8406 - accuracy: 0.9199 - precision_1: 0.9199 - recall_1: 0.9199\n",
      "Epoch 2: val_loss improved from 19.05679 to 5.65250, saving model to best_rn50_v2.h5\n",
      "3710/3710 [==============================] - 190s 51ms/step - loss: 9.8385 - accuracy: 0.9199 - precision_1: 0.9199 - recall_1: 0.9199 - val_loss: 5.6525 - val_accuracy: 0.8366 - val_precision_1: 0.8366 - val_recall_1: 0.8366\n",
      "Epoch 3/20\n",
      "3710/3710 [==============================] - ETA: 0s - loss: 3.9646 - accuracy: 0.9359 - precision_1: 0.9359 - recall_1: 0.9359\n",
      "Epoch 3: val_loss improved from 5.65250 to 3.40193, saving model to best_rn50_v2.h5\n",
      "3710/3710 [==============================] - 191s 51ms/step - loss: 3.9646 - accuracy: 0.9359 - precision_1: 0.9359 - recall_1: 0.9359 - val_loss: 3.4019 - val_accuracy: 0.7468 - val_precision_1: 0.7468 - val_recall_1: 0.7468\n",
      "Epoch 4/20\n",
      "3709/3710 [============================>.] - ETA: 0s - loss: 2.3644 - accuracy: 0.9417 - precision_1: 0.9417 - recall_1: 0.9417\n",
      "Epoch 4: val_loss improved from 3.40193 to 2.28447, saving model to best_rn50_v2.h5\n",
      "3710/3710 [==============================] - 192s 52ms/step - loss: 2.3642 - accuracy: 0.9417 - precision_1: 0.9417 - recall_1: 0.9417 - val_loss: 2.2845 - val_accuracy: 0.8328 - val_precision_1: 0.8328 - val_recall_1: 0.8328\n",
      "Epoch 5/20\n",
      "3708/3710 [============================>.] - ETA: 0s - loss: 1.6175 - accuracy: 0.9478 - precision_1: 0.9478 - recall_1: 0.9478\n",
      "Epoch 5: val_loss improved from 2.28447 to 1.57983, saving model to best_rn50_v2.h5\n",
      "3710/3710 [==============================] - 190s 51ms/step - loss: 1.6174 - accuracy: 0.9478 - precision_1: 0.9478 - recall_1: 0.9478 - val_loss: 1.5798 - val_accuracy: 0.8599 - val_precision_1: 0.8599 - val_recall_1: 0.8599\n",
      "Epoch 6/20\n",
      "3709/3710 [============================>.] - ETA: 0s - loss: 1.2013 - accuracy: 0.9513 - precision_1: 0.9513 - recall_1: 0.9513\n",
      "Epoch 6: val_loss improved from 1.57983 to 1.49244, saving model to best_rn50_v2.h5\n",
      "3710/3710 [==============================] - 196s 53ms/step - loss: 1.2012 - accuracy: 0.9513 - precision_1: 0.9513 - recall_1: 0.9513 - val_loss: 1.4924 - val_accuracy: 0.7698 - val_precision_1: 0.7698 - val_recall_1: 0.7698\n",
      "Epoch 7/20\n",
      "3708/3710 [============================>.] - ETA: 0s - loss: 0.9386 - accuracy: 0.9533 - precision_1: 0.9533 - recall_1: 0.9533\n",
      "Epoch 7: val_loss improved from 1.49244 to 1.12330, saving model to best_rn50_v2.h5\n",
      "3710/3710 [==============================] - 192s 52ms/step - loss: 0.9386 - accuracy: 0.9532 - precision_1: 0.9532 - recall_1: 0.9532 - val_loss: 1.1233 - val_accuracy: 0.8163 - val_precision_1: 0.8163 - val_recall_1: 0.8163\n",
      "Epoch 8/20\n",
      "3710/3710 [==============================] - ETA: 0s - loss: 0.7588 - accuracy: 0.9584 - precision_1: 0.9584 - recall_1: 0.9584\n",
      "Epoch 8: val_loss improved from 1.12330 to 1.05570, saving model to best_rn50_v2.h5\n",
      "3710/3710 [==============================] - 192s 52ms/step - loss: 0.7588 - accuracy: 0.9584 - precision_1: 0.9584 - recall_1: 0.9584 - val_loss: 1.0557 - val_accuracy: 0.8070 - val_precision_1: 0.8070 - val_recall_1: 0.8070\n",
      "Epoch 9/20\n",
      "3709/3710 [============================>.] - ETA: 0s - loss: 0.6406 - accuracy: 0.9572 - precision_1: 0.9572 - recall_1: 0.9572\n",
      "Epoch 9: val_loss improved from 1.05570 to 0.89331, saving model to best_rn50_v2.h5\n",
      "3710/3710 [==============================] - 191s 51ms/step - loss: 0.6406 - accuracy: 0.9572 - precision_1: 0.9572 - recall_1: 0.9572 - val_loss: 0.8933 - val_accuracy: 0.8324 - val_precision_1: 0.8324 - val_recall_1: 0.8324\n",
      "Epoch 10/20\n",
      "3710/3710 [==============================] - ETA: 0s - loss: 0.5507 - accuracy: 0.9574 - precision_1: 0.9574 - recall_1: 0.9574\n",
      "Epoch 10: val_loss did not improve from 0.89331\n",
      "3710/3710 [==============================] - 192s 52ms/step - loss: 0.5507 - accuracy: 0.9574 - precision_1: 0.9574 - recall_1: 0.9574 - val_loss: 0.9997 - val_accuracy: 0.7796 - val_precision_1: 0.7796 - val_recall_1: 0.7796\n",
      "Epoch 11/20\n",
      "3710/3710 [==============================] - ETA: 0s - loss: 0.4822 - accuracy: 0.9605 - precision_1: 0.9605 - recall_1: 0.9605\n",
      "Epoch 11: val_loss improved from 0.89331 to 0.66886, saving model to best_rn50_v2.h5\n",
      "3710/3710 [==============================] - 191s 52ms/step - loss: 0.4822 - accuracy: 0.9605 - precision_1: 0.9605 - recall_1: 0.9605 - val_loss: 0.6689 - val_accuracy: 0.8732 - val_precision_1: 0.8732 - val_recall_1: 0.8732\n",
      "Epoch 12/20\n",
      "3708/3710 [============================>.] - ETA: 0s - loss: 0.4282 - accuracy: 0.9606 - precision_1: 0.9606 - recall_1: 0.9606\n",
      "Epoch 12: val_loss did not improve from 0.66886\n",
      "3710/3710 [==============================] - 191s 51ms/step - loss: 0.4283 - accuracy: 0.9606 - precision_1: 0.9606 - recall_1: 0.9606 - val_loss: 0.7118 - val_accuracy: 0.8355 - val_precision_1: 0.8355 - val_recall_1: 0.8355\n",
      "Epoch 13/20\n",
      "3709/3710 [============================>.] - ETA: 0s - loss: 0.3926 - accuracy: 0.9591 - precision_1: 0.9591 - recall_1: 0.9591\n",
      "Epoch 13: val_loss did not improve from 0.66886\n",
      "3710/3710 [==============================] - 193s 52ms/step - loss: 0.3926 - accuracy: 0.9591 - precision_1: 0.9591 - recall_1: 0.9591 - val_loss: 0.7227 - val_accuracy: 0.8122 - val_precision_1: 0.8122 - val_recall_1: 0.8122\n",
      "Epoch 14/20\n",
      "3708/3710 [============================>.] - ETA: 0s - loss: 0.3580 - accuracy: 0.9595 - precision_1: 0.9595 - recall_1: 0.9595\n",
      "Epoch 14: val_loss did not improve from 0.66886\n",
      "3710/3710 [==============================] - 192s 52ms/step - loss: 0.3579 - accuracy: 0.9595 - precision_1: 0.9595 - recall_1: 0.9595 - val_loss: 0.6856 - val_accuracy: 0.8390 - val_precision_1: 0.8390 - val_recall_1: 0.8390\n",
      "Epoch 15/20\n",
      "3710/3710 [==============================] - ETA: 0s - loss: 0.3278 - accuracy: 0.9629 - precision_1: 0.9629 - recall_1: 0.9629\n",
      "Epoch 15: val_loss improved from 0.66886 to 0.58365, saving model to best_rn50_v2.h5\n",
      "3710/3710 [==============================] - 193s 52ms/step - loss: 0.3278 - accuracy: 0.9629 - precision_1: 0.9629 - recall_1: 0.9629 - val_loss: 0.5837 - val_accuracy: 0.8528 - val_precision_1: 0.8528 - val_recall_1: 0.8528\n",
      "Epoch 16/20\n",
      "3709/3710 [============================>.] - ETA: 0s - loss: 0.3011 - accuracy: 0.9638 - precision_1: 0.9638 - recall_1: 0.9638\n",
      "Epoch 16: val_loss did not improve from 0.58365\n",
      "3710/3710 [==============================] - 192s 52ms/step - loss: 0.3011 - accuracy: 0.9638 - precision_1: 0.9638 - recall_1: 0.9638 - val_loss: 0.7596 - val_accuracy: 0.7951 - val_precision_1: 0.7951 - val_recall_1: 0.7951\n",
      "Epoch 17/20\n",
      "3710/3710 [==============================] - ETA: 0s - loss: 0.2847 - accuracy: 0.9632 - precision_1: 0.9632 - recall_1: 0.9632\n",
      "Epoch 17: val_loss did not improve from 0.58365\n",
      "3710/3710 [==============================] - 193s 52ms/step - loss: 0.2847 - accuracy: 0.9632 - precision_1: 0.9632 - recall_1: 0.9632 - val_loss: 0.6867 - val_accuracy: 0.8362 - val_precision_1: 0.8362 - val_recall_1: 0.8362\n",
      "Epoch 18/20\n",
      "3710/3710 [==============================] - ETA: 0s - loss: 0.2657 - accuracy: 0.9649 - precision_1: 0.9649 - recall_1: 0.9649\n",
      "Epoch 18: val_loss improved from 0.58365 to 0.51569, saving model to best_rn50_v2.h5\n",
      "3710/3710 [==============================] - 193s 52ms/step - loss: 0.2657 - accuracy: 0.9649 - precision_1: 0.9649 - recall_1: 0.9649 - val_loss: 0.5157 - val_accuracy: 0.8654 - val_precision_1: 0.8654 - val_recall_1: 0.8654\n",
      "Epoch 19/20\n",
      "3709/3710 [============================>.] - ETA: 0s - loss: 0.2557 - accuracy: 0.9636 - precision_1: 0.9636 - recall_1: 0.9636\n",
      "Epoch 19: val_loss did not improve from 0.51569\n",
      "3710/3710 [==============================] - 193s 52ms/step - loss: 0.2557 - accuracy: 0.9636 - precision_1: 0.9636 - recall_1: 0.9636 - val_loss: 0.6244 - val_accuracy: 0.7904 - val_precision_1: 0.7904 - val_recall_1: 0.7904\n",
      "Epoch 20/20\n",
      "3709/3710 [============================>.] - ETA: 0s - loss: 0.2471 - accuracy: 0.9616 - precision_1: 0.9616 - recall_1: 0.9616\n",
      "Epoch 20: val_loss did not improve from 0.51569\n",
      "3710/3710 [==============================] - 193s 52ms/step - loss: 0.2471 - accuracy: 0.9617 - precision_1: 0.9617 - recall_1: 0.9617 - val_loss: 0.5730 - val_accuracy: 0.8113 - val_precision_1: 0.8113 - val_recall_1: 0.8113\n"
     ]
    }
   ],
   "source": [
    "# Compile the model\n",
    "model.compile(optimizer=Adam(learning_rate=0.00001), loss='categorical_crossentropy', metrics =['accuracy', Precision(), Recall()])\n",
    "\n",
    "# Training with Early Stopping\n",
    "early_stopping = EarlyStopping(monitor='val_loss', patience=7)\n",
    "\n",
    "# Define the ModelCheckpoint callback\n",
    "model_checkpoint = ModelCheckpoint(\n",
    "    'best_rn50_v2.h5',\n",
    "    monitor='val_loss',\n",
    "    save_best_only=True,\n",
    "    mode='min',\n",
    "    verbose=1\n",
    ")\n",
    "\n",
    "history = model.fit(\n",
    "    tf_dataset_train_augmented,\n",
    "    epochs=20,\n",
    "    validation_data=tf_dataset_val,\n",
    "    callbacks=[early_stopping, model_checkpoint]\n",
    ")\n"
   ]
  },
  {
   "cell_type": "markdown",
   "metadata": {
    "id": "sfFXeU6AIW8M"
   },
   "source": [
    "**Plotting Training and Validation Loss vs Number of Epochs**"
   ]
  },
  {
   "cell_type": "code",
   "execution_count": 33,
   "metadata": {
    "colab": {
     "base_uri": "https://localhost:8080/",
     "height": 1000
    },
    "id": "udus_120O0KP",
    "outputId": "a1ba6862-8b33-4fd6-d83f-f074397297a6"
   },
   "outputs": [
    {
     "data": {
      "image/png": "[encoded data removed]",
      "text/plain": [
       "<Figure size 1000x1000 with 2 Axes>"
      ]
     },
     "metadata": {},
     "output_type": "display_data"
    }
   ],
   "source": [
    "import matplotlib.pyplot as plt\n",
    "\n",
    "fig, (ax1, ax2) = plt.subplots(2, 1, figsize=(10, 10))\n",
    "\n",
    "ax1.plot(history.history['loss'], label='Training Loss')\n",
    "ax1.plot(history.history['val_loss'], label='Validation Loss')\n",
    "ax1.set_title('Training and Validation Loss')\n",
    "ax1.set_xlabel('Epochs')\n",
    "ax1.set_ylabel('Loss')\n",
    "ax1.legend()\n",
    "\n",
    "ax2.plot(history.history['accuracy'], label='Training Accuracy')\n",
    "ax2.plot(history.history['val_accuracy'], label='Validation Accuracy')\n",
    "ax2.set_title('Training and Validation Accuracy')\n",
    "ax2.set_xlabel('Epochs')\n",
    "ax2.set_ylabel('Accuracy')\n",
    "ax2.legend()\n",
    "\n",
    "plt.tight_layout()\n",
    "plt.show()"
   ]
  },
  {
   "cell_type": "markdown",
   "metadata": {},
   "source": [
    "#### **Observations**\n",
    "- Both training and validation loss decrease significantly at the start and then plateau, indicating the model is learning and beginning to converge.\n",
    "- The validation loss closely tracks the training loss, suggesting the model is generalizing well without overfitting.\n",
    "- The training accuracy quickly rises and levels off, indicating the model is consistently performing well on the training data.\n",
    "- The validation accuracy shows greater fluctuation but generally trends upwards, which may suggest some variability in how the model handles the validation data across epochs. This could be due to the model encountering different features in the validation set that were not present in the training set\n",
    "- There is no apparent overfitting within the observed epoch range, as the validation loss decreases in tandem with the training loss."
   ]
  },
  {
   "cell_type": "markdown",
   "metadata": {
    "id": "b264B1JyI27H"
   },
   "source": [
    "**Loading the best model**"
   ]
  },
  {
   "cell_type": "code",
   "execution_count": 34,
   "metadata": {
    "id": "TOjzAYU7GOIg"
   },
   "outputs": [],
   "source": [
    "best_model = load_model('/content/best_rn50_v2.h5')"
   ]
  },
  {
   "cell_type": "markdown",
   "metadata": {
    "id": "xpj5JifdI-tH"
   },
   "source": [
    "**Evaluating the Model on Train, Test and Validation dataset**"
   ]
  },
  {
   "cell_type": "markdown",
   "metadata": {
    "id": "hhU3yZPJJT2n"
   },
   "source": [
    "**ResNet50 performance on Augmented Training Dataset**"
   ]
  },
  {
   "cell_type": "code",
   "execution_count": 36,
   "metadata": {
    "id": "jMMT2F4DJQYw"
   },
   "outputs": [],
   "source": [
    "train_augmented_report = model_evaluation(best_model, tf_dataset_train_augmented)"
   ]
  },
  {
   "cell_type": "code",
   "execution_count": 37,
   "metadata": {
    "colab": {
     "base_uri": "https://localhost:8080/"
    },
    "id": "Nl4F_g_eg4Iw",
    "outputId": "43fe619d-5a5f-4b0e-aba7-f4bc68b8c7aa"
   },
   "outputs": [
    {
     "name": "stdout",
     "output_type": "stream",
     "text": [
      "              precision    recall  f1-score   support\n",
      "\n",
      "           0       0.98      0.99      0.99     12235\n",
      "           1       0.99      0.99      0.99     17444\n",
      "\n",
      "    accuracy                           0.99     29679\n",
      "   macro avg       0.99      0.99      0.99     29679\n",
      "weighted avg       0.99      0.99      0.99     29679\n",
      "\n"
     ]
    }
   ],
   "source": [
    "print(train_augmented_report)"
   ]
  },
  {
   "cell_type": "markdown",
   "metadata": {
    "id": "kpVIDLwbjFC0"
   },
   "source": [
    "**ResNet50 performance on original Training Dataset**"
   ]
  },
  {
   "cell_type": "code",
   "execution_count": 38,
   "metadata": {
    "id": "cMVUNbW-jJg7"
   },
   "outputs": [],
   "source": [
    "train_report = model_evaluation(best_model, tf_dataset_train)"
   ]
  },
  {
   "cell_type": "code",
   "execution_count": 39,
   "metadata": {
    "colab": {
     "base_uri": "https://localhost:8080/"
    },
    "id": "2m_IwvxhjZXJ",
    "outputId": "eace20f4-d319-4c50-f293-3d83b666db79"
   },
   "outputs": [
    {
     "name": "stdout",
     "output_type": "stream",
     "text": [
      "              precision    recall  f1-score   support\n",
      "\n",
      "           0       0.99      0.99      0.99     12235\n",
      "           1       0.99      0.99      0.99     17444\n",
      "\n",
      "    accuracy                           0.99     29679\n",
      "   macro avg       0.99      0.99      0.99     29679\n",
      "weighted avg       0.99      0.99      0.99     29679\n",
      "\n"
     ]
    }
   ],
   "source": [
    "print(train_report)"
   ]
  },
  {
   "cell_type": "markdown",
   "metadata": {
    "id": "pcPe2M22JZXu"
   },
   "source": [
    "**ResNet50 performance on Validation Dataset**"
   ]
  },
  {
   "cell_type": "code",
   "execution_count": 40,
   "metadata": {
    "id": "e3rehOs8JSBs"
   },
   "outputs": [],
   "source": [
    "val_report = model_evaluation(best_model, tf_dataset_val)"
   ]
  },
  {
   "cell_type": "code",
   "execution_count": 41,
   "metadata": {
    "colab": {
     "base_uri": "https://localhost:8080/"
    },
    "id": "sI2fsL1Ug8dW",
    "outputId": "3fef11de-91fc-4e98-8857-700574594372"
   },
   "outputs": [
    {
     "name": "stdout",
     "output_type": "stream",
     "text": [
      "              precision    recall  f1-score   support\n",
      "\n",
      "           0       1.00      0.80      0.89      7654\n",
      "           1       0.71      0.99      0.83      3632\n",
      "\n",
      "    accuracy                           0.87     11286\n",
      "   macro avg       0.85      0.90      0.86     11286\n",
      "weighted avg       0.90      0.87      0.87     11286\n",
      "\n"
     ]
    }
   ],
   "source": [
    "print(val_report)"
   ]
  },
  {
   "cell_type": "markdown",
   "metadata": {
    "id": "9uZem-zPJbj-"
   },
   "source": [
    "**ResNet50 performance on Testing Dataset**"
   ]
  },
  {
   "cell_type": "code",
   "execution_count": 42,
   "metadata": {
    "id": "vyUlO7g4JTQK"
   },
   "outputs": [],
   "source": [
    "test_report = model_evaluation(best_model, tf_dataset_test)"
   ]
  },
  {
   "cell_type": "code",
   "execution_count": 43,
   "metadata": {
    "colab": {
     "base_uri": "https://localhost:8080/"
    },
    "id": "8bP0_mnMgUa3",
    "outputId": "dbee9834-829d-4d2b-e48a-60b986cff0e1"
   },
   "outputs": [
    {
     "name": "stdout",
     "output_type": "stream",
     "text": [
      "              precision    recall  f1-score   support\n",
      "\n",
      "           0       0.96      0.86      0.91      4418\n",
      "           1       0.93      0.98      0.96      8405\n",
      "\n",
      "    accuracy                           0.94     12823\n",
      "   macro avg       0.95      0.92      0.93     12823\n",
      "weighted avg       0.94      0.94      0.94     12823\n",
      "\n"
     ]
    }
   ],
   "source": [
    "print(test_report)"
   ]
  },
  {
   "cell_type": "markdown",
   "metadata": {},
   "source": [
    "#### **ResNet50 Results - Macro Avg Scores**\n",
    "- **Train - Augmented**\n",
    "    - Precision = 0.99\n",
    "    - Recall = 0.99\n",
    "    - F1 Score = 0.99\n",
    "    - Accuracy = 0.99\n",
    "- **Train**\n",
    "    - Precision = 0.99\n",
    "    - Recall = 0.99\n",
    "    - F1 Score = 0.99\n",
    "    - Accuracy = 0.99\n",
    "- **Validation**\n",
    "    - Precision = 0.85\n",
    "    - Recall = 0.90\n",
    "    - F1 Score = 0.86\n",
    "    - Accuracy = 0.87\n",
    "- **Test**\n",
    "    - Precision = 0.95\n",
    "    - Recall = 0.92\n",
    "    - F1 Score = 0.93\n",
    "    - Accuracy = 0.94"
   ]
  },
  {
   "cell_type": "markdown",
   "metadata": {},
   "source": [
    "#### **Observations**\n",
    "- The ResNet50 model demonstrates high precision and recall across both validation and testing datasets, with particularly strong performance on the testing set.\n",
    "- This is indicated by high accuracy (0.94) and balanced F1-scores (0.91-0.96). \n",
    "The model shows a better predictive capability for class 'frost' on the testing dataset, suggesting effective generalization and learning.\n",
    "- On the validation set precision is lower for class 'frost' at 0.71, with a high recall of 0.99, which means the model has more false positives for class 'frost', but it identifies nearly all actual class 'frost' instances."
   ]
  },
  {
   "cell_type": "markdown",
   "metadata": {},
   "source": [
    "### **VGG16 model**"
   ]
  },
  {
   "cell_type": "markdown",
   "metadata": {},
   "source": [
    "#### **My Approach - Model Configuration**\n",
    "- **Base Model**: VGG16 pre-trained on ImageNet.\n",
    "- **Trainable**: Base model layers are frozen (not trainable) to preserve the pre-trained features.\n",
    "- **Custom Layers Added**:\n",
    "  - **GlobalAveragePooling2D**: Reduces the spatial dimensions to a vector.\n",
    "  - **Dense Layer**: 1024 units, ReLU activation, L2 regularization with a factor of 0.1.\n",
    "  - **BatchNormalization**: Applied after the dense layer.\n",
    "  - **Dropout**: Set to 30% to reduce overfitting by randomly setting input units to 0 at each update during training.\n",
    "  - **Output Layer**: Dense layer with 2 units (assuming binary classification) with a softmax activation function.\n",
    "\n",
    "**Compilation Settings**:\n",
    "- **Optimizer**: Adam with a learning rate of 0.00001.\n",
    "- **Loss Function**: Categorical crossentropy.\n",
    "- **Metrics**: Accuracy, Precision, and Recall.\n",
    "\n",
    "**Training Configuration**:\n",
    "- **EarlyStopping Callback**: Monitor validation loss with a patience of 7 epochs before stopping.\n",
    "- **ModelCheckpoint Callback**: Save the best model based on the minimum validation loss, named 'best_vgg16_v2.h5'.\n",
    "- **Verbose**: Set to 1 for the ModelCheckpoint to print out when a better model is saved.\n",
    "- **Epochs**: The model is set to train for a maximum of 20 epochs.\n",
    "- **Data**: Trained on an augmented training dataset (`tf_dataset_train_augmented`) with a separate validation dataset (`tf_dataset_val`).\n",
    "- **Batch_Size**: 8\n"
   ]
  },
  {
   "cell_type": "markdown",
   "metadata": {
    "id": "J-4g3y_bIF7W"
   },
   "source": [
    "**Loading the VGG16 model**"
   ]
  },
  {
   "cell_type": "code",
   "execution_count": 29,
   "metadata": {
    "colab": {
     "base_uri": "https://localhost:8080/"
    },
    "id": "wO-iH2iZOo5_",
    "outputId": "9e0885d4-3b34-4652-ea01-989ab0afa0e2"
   },
   "outputs": [
    {
     "name": "stdout",
     "output_type": "stream",
     "text": [
      "Downloading data from https://storage.googleapis.com/tensorflow/keras-applications/vgg16/vgg16_weights_tf_dim_ordering_tf_kernels_notop.h5\n",
      "58889256/58889256 [==============================] - 0s 0us/step\n"
     ]
    }
   ],
   "source": [
    "from tensorflow.keras.applications import VGG16\n",
    "from tensorflow.keras.layers import GlobalAveragePooling2D, Dense, BatchNormalization, Dropout\n",
    "from tensorflow.keras.models import Model\n",
    "\n",
    "# Load the pre-trained model\n",
    "base_model = VGG16(weights='imagenet', include_top=False)\n",
    "base_model.trainable = False  # Freeze the layers\n",
    "\n",
    "# Add custom layers\n",
    "x = GlobalAveragePooling2D()(base_model.output)\n",
    "x = Dense(1024, activation='relu',kernel_regularizer=tf.keras.regularizers.l2(0.1))(x)\n",
    "x = BatchNormalization()(x)\n",
    "x = Dropout(0.3)(x)\n",
    "predictions = Dense(2, activation='softmax')(x)\n",
    "\n",
    "# Create the final model\n",
    "model = Model(inputs=base_model.input, outputs=predictions)\n"
   ]
  },
  {
   "cell_type": "markdown",
   "metadata": {
    "id": "YJ6UvrFcINaW"
   },
   "source": [
    "**Training the model**"
   ]
  },
  {
   "cell_type": "code",
   "execution_count": 30,
   "metadata": {
    "colab": {
     "base_uri": "https://localhost:8080/"
    },
    "id": "EUeImrULOsgg",
    "outputId": "cb9d12ac-c592-4de5-de14-9f55d071c737"
   },
   "outputs": [
    {
     "name": "stdout",
     "output_type": "stream",
     "text": [
      "Epoch 1/20\n",
      "3710/3710 [==============================] - ETA: 0s - loss: 38.6500 - accuracy: 0.7587 - precision: 0.7587 - recall: 0.7587\n",
      "Epoch 1: val_loss improved from inf to 18.83339, saving model to best_vgg16_v2.h5\n",
      "3710/3710 [==============================] - 233s 60ms/step - loss: 38.6500 - accuracy: 0.7587 - precision: 0.7587 - recall: 0.7587 - val_loss: 18.8334 - val_accuracy: 0.7510 - val_precision: 0.7510 - val_recall: 0.7510\n",
      "Epoch 2/20\n"
     ]
    },
    {
     "name": "stderr",
     "output_type": "stream",
     "text": [
      "/usr/local/lib/python3.10/dist-packages/keras/src/engine/training.py:3079: UserWarning: You are saving your model as an HDF5 file via `model.save()`. This file format is considered legacy. We recommend using instead the native Keras format, e.g. `model.save('my_model.keras')`.\n",
      "  saving_api.save_model(\n"
     ]
    },
    {
     "name": "stdout",
     "output_type": "stream",
     "text": [
      "3710/3710 [==============================] - ETA: 0s - loss: 10.9503 - accuracy: 0.8502 - precision: 0.8502 - recall: 0.8502\n",
      "Epoch 2: val_loss improved from 18.83339 to 6.59694, saving model to best_vgg16_v2.h5\n",
      "3710/3710 [==============================] - 214s 58ms/step - loss: 10.9503 - accuracy: 0.8502 - precision: 0.8502 - recall: 0.8502 - val_loss: 6.5969 - val_accuracy: 0.7702 - val_precision: 0.7702 - val_recall: 0.7702\n",
      "Epoch 3/20\n",
      "3709/3710 [============================>.] - ETA: 0s - loss: 4.7796 - accuracy: 0.8749 - precision: 0.8749 - recall: 0.8749\n",
      "Epoch 3: val_loss improved from 6.59694 to 3.91481, saving model to best_vgg16_v2.h5\n",
      "3710/3710 [==============================] - 213s 57ms/step - loss: 4.7796 - accuracy: 0.8748 - precision: 0.8748 - recall: 0.8748 - val_loss: 3.9148 - val_accuracy: 0.7477 - val_precision: 0.7477 - val_recall: 0.7477\n",
      "Epoch 4/20\n",
      "3710/3710 [==============================] - ETA: 0s - loss: 2.9767 - accuracy: 0.8891 - precision: 0.8891 - recall: 0.8891\n",
      "Epoch 4: val_loss improved from 3.91481 to 2.73539, saving model to best_vgg16_v2.h5\n",
      "3710/3710 [==============================] - 214s 58ms/step - loss: 2.9767 - accuracy: 0.8891 - precision: 0.8891 - recall: 0.8891 - val_loss: 2.7354 - val_accuracy: 0.7637 - val_precision: 0.7637 - val_recall: 0.7637\n",
      "Epoch 5/20\n",
      "3709/3710 [============================>.] - ETA: 0s - loss: 2.0981 - accuracy: 0.8981 - precision: 0.8981 - recall: 0.8981\n",
      "Epoch 5: val_loss improved from 2.73539 to 2.01774, saving model to best_vgg16_v2.h5\n",
      "3710/3710 [==============================] - 217s 58ms/step - loss: 2.0980 - accuracy: 0.8981 - precision: 0.8981 - recall: 0.8981 - val_loss: 2.0177 - val_accuracy: 0.7937 - val_precision: 0.7937 - val_recall: 0.7937\n",
      "Epoch 6/20\n",
      "3710/3710 [==============================] - ETA: 0s - loss: 1.5915 - accuracy: 0.9069 - precision: 0.9069 - recall: 0.9069\n",
      "Epoch 6: val_loss improved from 2.01774 to 1.59450, saving model to best_vgg16_v2.h5\n",
      "3710/3710 [==============================] - 216s 58ms/step - loss: 1.5915 - accuracy: 0.9069 - precision: 0.9069 - recall: 0.9069 - val_loss: 1.5945 - val_accuracy: 0.8166 - val_precision: 0.8166 - val_recall: 0.8166\n",
      "Epoch 7/20\n",
      "3710/3710 [==============================] - ETA: 0s - loss: 1.2631 - accuracy: 0.9136 - precision: 0.9136 - recall: 0.9136\n",
      "Epoch 7: val_loss improved from 1.59450 to 1.32620, saving model to best_vgg16_v2.h5\n",
      "3710/3710 [==============================] - 213s 57ms/step - loss: 1.2631 - accuracy: 0.9136 - precision: 0.9136 - recall: 0.9136 - val_loss: 1.3262 - val_accuracy: 0.8226 - val_precision: 0.8226 - val_recall: 0.8226\n",
      "Epoch 8/20\n",
      "3709/3710 [============================>.] - ETA: 0s - loss: 1.0363 - accuracy: 0.9184 - precision: 0.9184 - recall: 0.9184\n",
      "Epoch 8: val_loss improved from 1.32620 to 1.13908, saving model to best_vgg16_v2.h5\n",
      "3710/3710 [==============================] - 213s 57ms/step - loss: 1.0362 - accuracy: 0.9184 - precision: 0.9184 - recall: 0.9184 - val_loss: 1.1391 - val_accuracy: 0.8299 - val_precision: 0.8299 - val_recall: 0.8299\n",
      "Epoch 9/20\n",
      "3710/3710 [==============================] - ETA: 0s - loss: 0.8713 - accuracy: 0.9220 - precision: 0.9220 - recall: 0.9220\n",
      "Epoch 9: val_loss improved from 1.13908 to 1.02322, saving model to best_vgg16_v2.h5\n",
      "3710/3710 [==============================] - 214s 58ms/step - loss: 0.8713 - accuracy: 0.9220 - precision: 0.9220 - recall: 0.9220 - val_loss: 1.0232 - val_accuracy: 0.8288 - val_precision: 0.8288 - val_recall: 0.8288\n",
      "Epoch 10/20\n",
      "3710/3710 [==============================] - ETA: 0s - loss: 0.7539 - accuracy: 0.9273 - precision: 0.9273 - recall: 0.9273\n",
      "Epoch 10: val_loss improved from 1.02322 to 0.87975, saving model to best_vgg16_v2.h5\n",
      "3710/3710 [==============================] - 216s 58ms/step - loss: 0.7539 - accuracy: 0.9273 - precision: 0.9273 - recall: 0.9273 - val_loss: 0.8797 - val_accuracy: 0.8492 - val_precision: 0.8492 - val_recall: 0.8492\n",
      "Epoch 11/20\n",
      "3709/3710 [============================>.] - ETA: 0s - loss: 0.6577 - accuracy: 0.9305 - precision: 0.9305 - recall: 0.9305\n",
      "Epoch 11: val_loss improved from 0.87975 to 0.87221, saving model to best_vgg16_v2.h5\n",
      "3710/3710 [==============================] - 216s 58ms/step - loss: 0.6577 - accuracy: 0.9306 - precision: 0.9306 - recall: 0.9306 - val_loss: 0.8722 - val_accuracy: 0.8186 - val_precision: 0.8186 - val_recall: 0.8186\n",
      "Epoch 12/20\n",
      "3710/3710 [==============================] - ETA: 0s - loss: 0.5839 - accuracy: 0.9322 - precision: 0.9322 - recall: 0.9322\n",
      "Epoch 12: val_loss improved from 0.87221 to 0.72239, saving model to best_vgg16_v2.h5\n",
      "3710/3710 [==============================] - 215s 58ms/step - loss: 0.5839 - accuracy: 0.9322 - precision: 0.9322 - recall: 0.9322 - val_loss: 0.7224 - val_accuracy: 0.8638 - val_precision: 0.8638 - val_recall: 0.8638\n",
      "Epoch 13/20\n",
      "3710/3710 [==============================] - ETA: 0s - loss: 0.5197 - accuracy: 0.9373 - precision: 0.9373 - recall: 0.9373\n",
      "Epoch 13: val_loss improved from 0.72239 to 0.71433, saving model to best_vgg16_v2.h5\n",
      "3710/3710 [==============================] - 214s 58ms/step - loss: 0.5197 - accuracy: 0.9373 - precision: 0.9373 - recall: 0.9373 - val_loss: 0.7143 - val_accuracy: 0.8475 - val_precision: 0.8475 - val_recall: 0.8475\n",
      "Epoch 14/20\n",
      "3709/3710 [============================>.] - ETA: 0s - loss: 0.4781 - accuracy: 0.9373 - precision: 0.9373 - recall: 0.9373\n",
      "Epoch 14: val_loss improved from 0.71433 to 0.62393, saving model to best_vgg16_v2.h5\n",
      "3710/3710 [==============================] - 214s 58ms/step - loss: 0.4780 - accuracy: 0.9373 - precision: 0.9373 - recall: 0.9373 - val_loss: 0.6239 - val_accuracy: 0.8706 - val_precision: 0.8706 - val_recall: 0.8706\n",
      "Epoch 15/20\n",
      "3710/3710 [==============================] - ETA: 0s - loss: 0.4333 - accuracy: 0.9398 - precision: 0.9398 - recall: 0.9398\n",
      "Epoch 15: val_loss did not improve from 0.62393\n",
      "3710/3710 [==============================] - 213s 57ms/step - loss: 0.4333 - accuracy: 0.9398 - precision: 0.9398 - recall: 0.9398 - val_loss: 0.6292 - val_accuracy: 0.8522 - val_precision: 0.8522 - val_recall: 0.8522\n",
      "Epoch 16/20\n",
      "3709/3710 [============================>.] - ETA: 0s - loss: 0.3968 - accuracy: 0.9449 - precision: 0.9449 - recall: 0.9449\n",
      "Epoch 16: val_loss did not improve from 0.62393\n",
      "3710/3710 [==============================] - 213s 57ms/step - loss: 0.3968 - accuracy: 0.9449 - precision: 0.9449 - recall: 0.9449 - val_loss: 0.8137 - val_accuracy: 0.7858 - val_precision: 0.7858 - val_recall: 0.7858\n",
      "Epoch 17/20\n",
      "3710/3710 [==============================] - ETA: 0s - loss: 0.3689 - accuracy: 0.9442 - precision: 0.9442 - recall: 0.9442\n",
      "Epoch 17: val_loss improved from 0.62393 to 0.58826, saving model to best_vgg16_v2.h5\n",
      "3710/3710 [==============================] - 215s 58ms/step - loss: 0.3689 - accuracy: 0.9442 - precision: 0.9442 - recall: 0.9442 - val_loss: 0.5883 - val_accuracy: 0.8496 - val_precision: 0.8496 - val_recall: 0.8496\n",
      "Epoch 18/20\n",
      "3710/3710 [==============================] - ETA: 0s - loss: 0.3462 - accuracy: 0.9458 - precision: 0.9458 - recall: 0.9458\n",
      "Epoch 18: val_loss did not improve from 0.58826\n",
      "3710/3710 [==============================] - 214s 58ms/step - loss: 0.3462 - accuracy: 0.9458 - precision: 0.9458 - recall: 0.9458 - val_loss: 0.6255 - val_accuracy: 0.8333 - val_precision: 0.8333 - val_recall: 0.8333\n",
      "Epoch 19/20\n",
      "3709/3710 [============================>.] - ETA: 0s - loss: 0.3205 - accuracy: 0.9497 - precision: 0.9497 - recall: 0.9497\n",
      "Epoch 19: val_loss improved from 0.58826 to 0.49427, saving model to best_vgg16_v2.h5\n",
      "3710/3710 [==============================] - 213s 57ms/step - loss: 0.3205 - accuracy: 0.9497 - precision: 0.9497 - recall: 0.9497 - val_loss: 0.4943 - val_accuracy: 0.8779 - val_precision: 0.8779 - val_recall: 0.8779\n",
      "Epoch 20/20\n",
      "3709/3710 [============================>.] - ETA: 0s - loss: 0.3058 - accuracy: 0.9477 - precision: 0.9477 - recall: 0.9477\n",
      "Epoch 20: val_loss did not improve from 0.49427\n",
      "3710/3710 [==============================] - 215s 58ms/step - loss: 0.3057 - accuracy: 0.9477 - precision: 0.9477 - recall: 0.9477 - val_loss: 0.5495 - val_accuracy: 0.8541 - val_precision: 0.8541 - val_recall: 0.8541\n"
     ]
    }
   ],
   "source": [
    "# Compile the model\n",
    "model.compile(optimizer=Adam(learning_rate=0.00001), loss='categorical_crossentropy', metrics =['accuracy', Precision(), Recall()])\n",
    "\n",
    "# Training with Early Stopping\n",
    "early_stopping = EarlyStopping(monitor='val_loss', patience=7)\n",
    "\n",
    "# Define the ModelCheckpoint callback\n",
    "model_checkpoint = ModelCheckpoint(\n",
    "    'best_vgg16_v2.h5',\n",
    "    monitor='val_loss',\n",
    "    save_best_only=True,\n",
    "    mode='min',\n",
    "    verbose=1\n",
    ")\n",
    "\n",
    "history = model.fit(\n",
    "    tf_dataset_train_augmented,\n",
    "    epochs=20,\n",
    "    validation_data=tf_dataset_val,\n",
    "    callbacks=[early_stopping, model_checkpoint]\n",
    ")\n"
   ]
  },
  {
   "cell_type": "markdown",
   "metadata": {
    "id": "sfFXeU6AIW8M"
   },
   "source": [
    "Plotting Training and Validation Loss vs Number of Epochs"
   ]
  },
  {
   "cell_type": "code",
   "execution_count": 31,
   "metadata": {
    "colab": {
     "base_uri": "https://localhost:8080/",
     "height": 1000
    },
    "id": "udus_120O0KP",
    "outputId": "8bdc4411-7848-4895-8a54-ef188370715c"
   },
   "outputs": [
    {
     "data": {
      "image/png": "[encoded data removed]",
      "text/plain": [
       "<Figure size 1000x1000 with 2 Axes>"
      ]
     },
     "metadata": {},
     "output_type": "display_data"
    }
   ],
   "source": [
    "import matplotlib.pyplot as plt\n",
    "\n",
    "fig, (ax1, ax2) = plt.subplots(2, 1, figsize=(10, 10))\n",
    "\n",
    "ax1.plot(history.history['loss'], label='Training Loss')\n",
    "ax1.plot(history.history['val_loss'], label='Validation Loss')\n",
    "ax1.set_title('Training and Validation Loss')\n",
    "ax1.set_xlabel('Epochs')\n",
    "ax1.set_ylabel('Loss')\n",
    "ax1.legend()\n",
    "\n",
    "ax2.plot(history.history['accuracy'], label='Training Accuracy')\n",
    "ax2.plot(history.history['val_accuracy'], label='Validation Accuracy')\n",
    "ax2.set_title('Training and Validation Accuracy')\n",
    "ax2.set_xlabel('Epochs')\n",
    "ax2.set_ylabel('Accuracy')\n",
    "ax2.legend()\n",
    "\n",
    "plt.tight_layout()\n",
    "plt.show()"
   ]
  },
  {
   "cell_type": "markdown",
   "metadata": {},
   "source": [
    "#### **Observations**\n",
    "- The training loss decreases significantly and levels off, indicating that the model is learning from the training data.\n",
    "- The validation loss decreases alongside the training loss and also levels off, suggesting that the model is generalizing well to unseen data without overfitting.\n",
    "- The training accuracy increases steadily, reaching a plateau, which is a sign of good learning on the training data.\n",
    "- The validation accuracy increases but with fluctuations, showing some variability in the model's performance on the validation set across different epochs.\n",
    "- The fluctuations in validation accuracy could suggest that the validation data may contain some harder-to-predict samples\n"
   ]
  },
  {
   "cell_type": "markdown",
   "metadata": {
    "id": "b264B1JyI27H"
   },
   "source": [
    "**Loading the best model**"
   ]
  },
  {
   "cell_type": "code",
   "execution_count": 32,
   "metadata": {
    "id": "TOjzAYU7GOIg"
   },
   "outputs": [],
   "source": [
    "best_model = load_model('/content/best_vgg16_v2.h5')"
   ]
  },
  {
   "cell_type": "markdown",
   "metadata": {
    "id": "xpj5JifdI-tH"
   },
   "source": [
    "#### **Evaluating the Model on Train, Test and Validation dataset**"
   ]
  },
  {
   "cell_type": "markdown",
   "metadata": {
    "id": "hhU3yZPJJT2n"
   },
   "source": [
    "**VGG16 performance on Augmented Training Dataset**"
   ]
  },
  {
   "cell_type": "code",
   "execution_count": 34,
   "metadata": {
    "id": "jMMT2F4DJQYw"
   },
   "outputs": [],
   "source": [
    "train_augmented_report = model_evaluation(best_model, tf_dataset_train_augmented)"
   ]
  },
  {
   "cell_type": "code",
   "execution_count": 35,
   "metadata": {
    "colab": {
     "base_uri": "https://localhost:8080/"
    },
    "id": "Nl4F_g_eg4Iw",
    "outputId": "18ef2600-ac15-47c6-88a3-f6e4381558e3"
   },
   "outputs": [
    {
     "name": "stdout",
     "output_type": "stream",
     "text": [
      "              precision    recall  f1-score   support\n",
      "\n",
      "           0       0.98      0.98      0.98     12235\n",
      "           1       0.98      0.98      0.98     17444\n",
      "\n",
      "    accuracy                           0.98     29679\n",
      "   macro avg       0.98      0.98      0.98     29679\n",
      "weighted avg       0.98      0.98      0.98     29679\n",
      "\n"
     ]
    }
   ],
   "source": [
    "print(train_augmented_report)"
   ]
  },
  {
   "cell_type": "markdown",
   "metadata": {
    "id": "O9bMW47t0e43"
   },
   "source": [
    "**VGG16 performance on original Training Dataset**"
   ]
  },
  {
   "cell_type": "code",
   "execution_count": 36,
   "metadata": {
    "id": "Z_lLI8Ud0jtP"
   },
   "outputs": [],
   "source": [
    "train_report = model_evaluation(best_model, tf_dataset_train)"
   ]
  },
  {
   "cell_type": "code",
   "execution_count": 37,
   "metadata": {
    "colab": {
     "base_uri": "https://localhost:8080/"
    },
    "id": "EIeAXToy0nDS",
    "outputId": "dc1202e6-4170-4f16-f97e-326bbca6e72e"
   },
   "outputs": [
    {
     "name": "stdout",
     "output_type": "stream",
     "text": [
      "              precision    recall  f1-score   support\n",
      "\n",
      "           0       0.98      0.99      0.98     12235\n",
      "           1       0.99      0.99      0.99     17444\n",
      "\n",
      "    accuracy                           0.99     29679\n",
      "   macro avg       0.99      0.99      0.99     29679\n",
      "weighted avg       0.99      0.99      0.99     29679\n",
      "\n"
     ]
    }
   ],
   "source": [
    "print(train_report)"
   ]
  },
  {
   "cell_type": "markdown",
   "metadata": {
    "id": "pcPe2M22JZXu"
   },
   "source": [
    "**VGG16 performance on Validation Dataset**"
   ]
  },
  {
   "cell_type": "code",
   "execution_count": 38,
   "metadata": {
    "id": "e3rehOs8JSBs"
   },
   "outputs": [],
   "source": [
    "val_report = model_evaluation(best_model, tf_dataset_val)"
   ]
  },
  {
   "cell_type": "code",
   "execution_count": 39,
   "metadata": {
    "colab": {
     "base_uri": "https://localhost:8080/"
    },
    "id": "sI2fsL1Ug8dW",
    "outputId": "8b9578b6-e5e0-45ec-e907-ee28b62fe790"
   },
   "outputs": [
    {
     "name": "stdout",
     "output_type": "stream",
     "text": [
      "              precision    recall  f1-score   support\n",
      "\n",
      "           0       0.97      0.84      0.90      7654\n",
      "           1       0.74      0.95      0.83      3632\n",
      "\n",
      "    accuracy                           0.88     11286\n",
      "   macro avg       0.86      0.90      0.87     11286\n",
      "weighted avg       0.90      0.88      0.88     11286\n",
      "\n"
     ]
    }
   ],
   "source": [
    "print(val_report)"
   ]
  },
  {
   "cell_type": "markdown",
   "metadata": {
    "id": "9uZem-zPJbj-"
   },
   "source": [
    "**VGG16 performance on Testing Dataset**"
   ]
  },
  {
   "cell_type": "code",
   "execution_count": 40,
   "metadata": {
    "id": "vyUlO7g4JTQK"
   },
   "outputs": [],
   "source": [
    "test_report = model_evaluation(best_model, tf_dataset_test)"
   ]
  },
  {
   "cell_type": "code",
   "execution_count": 41,
   "metadata": {
    "colab": {
     "base_uri": "https://localhost:8080/"
    },
    "id": "8bP0_mnMgUa3",
    "outputId": "e63023bf-50eb-4993-a489-5837aa8b5f2b"
   },
   "outputs": [
    {
     "name": "stdout",
     "output_type": "stream",
     "text": [
      "              precision    recall  f1-score   support\n",
      "\n",
      "           0       0.95      0.92      0.93      4418\n",
      "           1       0.96      0.97      0.97      8405\n",
      "\n",
      "    accuracy                           0.95     12823\n",
      "   macro avg       0.95      0.95      0.95     12823\n",
      "weighted avg       0.95      0.95      0.95     12823\n",
      "\n"
     ]
    }
   ],
   "source": [
    "print(test_report)"
   ]
  },
  {
   "cell_type": "markdown",
   "metadata": {},
   "source": [
    "#### **VGG16 Results - Macro Avg Scores**\n",
    "- **Train - Augmented**\n",
    "    - Precision = 0.98\n",
    "    - Recall = 0.98\n",
    "    - F1 Score = 0.98\n",
    "    - Accuracy = 0.98\n",
    "- **Train**\n",
    "    - Precision = 0.99\n",
    "    - Recall = 0.99\n",
    "    - F1 Score = 0.99\n",
    "    - Accuracy = 0.99\n",
    "- **Validation**\n",
    "    - Precision = 0.86\n",
    "    - Recall = 0.90\n",
    "    - F1 Score = 0.87\n",
    "    - Accuracy = 0.88\n",
    "- **Test**\n",
    "    - Precision = 0.95\n",
    "    - Recall = 0.95\n",
    "    - F1 Score = 0.95\n",
    "    - Accuracy = 0.95"
   ]
  },
  {
   "cell_type": "markdown",
   "metadata": {},
   "source": [
    "#### **Observations**\n",
    "- The model shows an impressive ability to generalize from the training data to unseen data, with high accuracy and F1-scores on the testing set compared to the validation set.\n",
    "- The consistency in high performance metrics (precision, recall, F1-score) from validation to testing suggests that the model is robust and reliable.\n",
    "- The improvement from validation to testing performance, especially in precision for class 1, might indicate differences in the data distribution between the two sets or that the validation set includes more challenging or diverse examples."
   ]
  },
  {
   "cell_type": "markdown",
   "metadata": {},
   "source": [
    "## **COMPARING RESULTS**"
   ]
  },
  {
   "cell_type": "markdown",
   "metadata": {},
   "source": [
    "| Model            | DataSet        | Macro Avg Precision | Macro Avg Recall | Macro Avg F1 Score | Accuracy |\n",
    "|------------------|--------------------|-----------|--------|----------|----------|\n",
    "| CNN+MLP          | Train - Augmented  | 0.96      | 0.97   | 0.97     | 0.97     |\n",
    "| CNN+MLP          | Train              | 0.98      | 0.98   | 0.98     | 0.98     |\n",
    "| CNN+MLP          | Validation         | 0.90      | 0.94   | 0.91     | 0.92     |\n",
    "| CNN+MLP          | Test               | 0.92      | 0.93   | 0.92     | 0.93     |\n",
    "| EfficientNetB0   | Train - Augmented  | 0.98      | 0.98   | 0.98     | 0.98     |\n",
    "| EfficientNetB0   | Train              | 0.99      | 0.98   | 0.98     | 0.99     |\n",
    "| EfficientNetB0   | Validation         | 0.84      | 0.89   | 0.85     | 0.86     |\n",
    "| EfficientNetB0   | Test               | 0.94      | 0.93   | 0.93     | 0.94     |\n",
    "| ResNet50         | Train - Augmented  | 0.99      | 0.99   | 0.99     | 0.99     |\n",
    "| ResNet50         | Train              | 0.99      | 0.99   | 0.99     | 0.99     |\n",
    "| ResNet50         | Validation         | 0.85      | 0.90   | 0.86     | 0.87     |\n",
    "| ResNet50         | Test               | 0.95      | 0.92   | 0.93     | 0.94     |\n",
    "| VGG16            | Train - Augmented  | 0.98      | 0.98   | 0.98     | 0.98     |\n",
    "| VGG16            | Train              | 0.99      | 0.99   | 0.99     | 0.99     |\n",
    "| VGG16            | Validation         | 0.86      | 0.90   | 0.87     | 0.88     |\n",
    "| VGG16            | Test               | 0.95      | 0.95   | 0.95     | 0.95     |\n"
   ]
  },
  {
   "cell_type": "markdown",
   "metadata": {},
   "source": [
    "## **GENERAL OBSERVATIONS**:\n",
    "\n",
    "- All models perform exceptionally well on the training set, with most metrics above 0.95. This is expected as models tend to perform best on the data they were trained on.\n",
    "- The augmented training data, which is typically used to introduce variability and prevent overfitting, shows slightly lower performance than the non-augmented training data for the CNN+MLP and VGG16 models, indicating that augmentation introduces a tougher, more varied training scenario.\n",
    "- The test scores are slightly lower than the training scores across all models, which is normal since the test set consists of unseen data.\n",
    "\n",
    "#### **CNN + MLP model**:\n",
    "Shows robust performance across all metrics, indicating good generalization. However, the validation and test scores are lower than the training scores.\n",
    "\n",
    "#### **EfficientNetB0**:\n",
    "This model has the highest precision and accuracy on the training set but shows a significant drop in performance on the validation set, particularly in precision. Despite the drop, the test scores recover somewhat, indicating that the model may still generalize well on completely unseen data.\n",
    "\n",
    "#### **ResNet50**:\n",
    "Exhibits the highest scores in the training phase, suggesting it has learned the training data very well, possibly better than the other models.\n",
    "The validation and test scores, while lower than the training scores, are still high. However, the drop from training to validation is notable,yet the model performs well on the test set\n",
    "\n",
    "#### **VGG16**:\n",
    "The VGG16 model shows very consistent high performance on training data, and like the others, a drop in validation scores. However, it has the highest test scores across all metrics, indicating strong generalization capabilities.\n",
    "\n",
    "\n",
    "### **Model Comparison**:\n",
    "\n",
    "- **Training Phase**: ResNet50 seems to be the most effective model in learning from the training data with the highest F1 score and accuracy.\n",
    "- **Validation Phase**: Here, the models show their ability to generalize to new data. VGG16 shows the least drop in performance from training to validation, suggesting it may be the most robust to overfitting.\n",
    "- **Test Phase**: VGG16 again shows the highest scores, which indicates that it generalizes the best out of all the models to unseen data.\n",
    "\n",
    "### **Overall Conclusions**:\n",
    "- VGG16 appears to be the most balanced model in terms of generalizing from training to unseen data while maintaining high performance across all metrics.\n",
    "- ResNet50, despite its high training scores, doesn’t seem to generalize as well as VGG16, although it still performs strongly.\n",
    "- EfficientNetB0 shows a drop from training to validation scores, but recovers on the test set.\n",
    "- CNN+MLP, while robust, does not achieve the same high scores as the other models on the test set.\n",
    "\n"
   ]
  },
  {
   "cell_type": "markdown",
   "metadata": {},
   "source": [
    "## **CNN+MLP vs Transfer Learning** "
   ]
  },
  {
   "cell_type": "markdown",
   "metadata": {},
   "source": [
    "#### **Complexity and Depth:**\n",
    "\n",
    "- CNN+MLP is  a simpler model compared to the pre-built architectures ResNet50, EfficientNetB0, and VGG16. These transfer learning models are deeper and more complex, designed to capture a wide variety of features from very large datasets (like ImageNet).\n",
    "- Transfer learning models are pre-trained on a massive amount of data and fine-tuned for specific tasks, which often gives them an edge in terms of feature extraction capabilities.\n",
    "\n",
    "#### **Training Data:**\n",
    "\n",
    "- The CNN+MLP model might require more data to reach the same level of accuracy as the transfer learning models if it is trained from scratch.\n",
    "Transfer learning models leverage their pre-trained weights to achieve high accuracy with potentially less training data because they have already learned a lot of feature representations.\n",
    "\n",
    "#### **Performance:**\n",
    "\n",
    "- From the results, CNN+MLP shows competitive performance but generally falls behind the transfer learning models on the test set, which is critical for evaluating generalization capabilities.\n",
    "- The transfer learning models, particularly VGG16, exhibit stronger performance on the test set, indicating better generalization to unseen data.\n",
    "- However, since the difference in performance between CNN+MLP and Transfer Learning is minimal, CNN+MLP can be a good candidate for this particular task\n",
    "\n",
    "#### **Overfitting:**\n",
    "\n",
    "- CNN+MLP seems to have a smaller gap between training and validation/test scores, which could mean it’s less prone to overfitting compared to some of the transfer learning models. This can be an indication that the model complexity is more aligned with the problem complexity and the amount of available training data.\n",
    "- Transfer learning models, particularly EfficientNetB0, show a noticeable drop in performance from training to validation, suggesting that the model may be too complex and thus overfitting to the training data. However, because they have so many parameters, they can sometimes capture noise along with the signal during training.\n",
    "\n",
    "\n",
    "#### **General Observations:**\n",
    "\n",
    "- **Generalization**: Transfer learning models generally have a better ability to generalize, as indicated by the higher test scores, due to the vast variety of features they have already learned.\n",
    "- **Adaptability**: Transfer learning models can be adapted to a wide range of tasks and datasets, which makes them very versatile if you need to work on different types of problems.\n",
    "\n",
    "- **Conclusion**:\n",
    "- While the CNN+MLP model is a strong contender and may be easier to train and iterate, the transfer learning models, with their depth and pre-trained knowledge, generally provide better performance and generalization capabilities, especially when fine-tuned correctly. \n",
    "- However, given only a minor increase in performance in Transfer Learning models from our CNN+MLP model, CNN+MLP is a good choice for this dataset for binary image classification"
   ]
  }
 ],
 "metadata": {
  "accelerator": "GPU",
  "colab": {
   "gpuType": "V100",
   "machine_shape": "hm",
   "provenance": []
  },
  "kernelspec": {
   "display_name": "Python 3",
   "name": "python3"
  },
  "language_info": {
   "name": "python"
  }
 },
 "nbformat": 4,
 "nbformat_minor": 0
}
